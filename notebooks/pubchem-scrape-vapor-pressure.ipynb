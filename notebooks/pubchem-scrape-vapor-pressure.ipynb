{
 "cells": [
  {
   "cell_type": "code",
   "execution_count": 1,
   "metadata": {},
   "outputs": [],
   "source": [
    "%matplotlib inline\n",
    "from IPython.display import HTML, display\n",
    "import matplotlib.pyplot as plt\n",
    "import numpy as np\n",
    "import pyrfume\n",
    "from pyrfume import pubchem\n",
    "import re\n",
    "import requests\n",
    "from tqdm.auto import tqdm"
   ]
  },
  {
   "cell_type": "code",
   "execution_count": 5,
   "metadata": {},
   "outputs": [],
   "source": [
    "def update_results(records, results):\n",
    "    keywords = ('odor', 'odour', 'smell', 'aroma ', 'aroma,', 'aroma.', 'fragrance')\n",
    "    for annotation in records['Annotations']['Annotation']:\n",
    "        try:\n",
    "            cids = annotation['LinkedRecords']['CID']\n",
    "        except:\n",
    "            pass\n",
    "        else:\n",
    "            strings = [] \n",
    "            for x in annotation['Data']:\n",
    "                for y in x['Value']['StringWithMarkup']:\n",
    "                    strings.append(y['String'])\n",
    "            for cid in cids:\n",
    "                if cid in results:\n",
    "                    results[cid] += strings\n",
    "                elif strings:\n",
    "                    results[cid] = strings"
   ]
  },
  {
   "cell_type": "code",
   "execution_count": 6,
   "metadata": {},
   "outputs": [],
   "source": [
    "def get_results(heading):\n",
    "    page = 1\n",
    "    results = {}\n",
    "    with tqdm(total=100) as pbar:\n",
    "        while True:\n",
    "            url = (f\"https://pubchem.ncbi.nlm.nih.gov/rest/pug_view/annotations/heading/\"\n",
    "                   f\"JSON?heading_type=Compound&heading={heading}&page={page}\")\n",
    "            response = requests.get(url)\n",
    "            records = response.json()\n",
    "            update_results(records, results)\n",
    "            totalPages = records['Annotations']['TotalPages']\n",
    "            if page==1:\n",
    "                pbar.reset(total=totalPages)\n",
    "            pbar.set_description(\"%d CIDs described\" % len(results))\n",
    "            pbar.update()\n",
    "            page += 1\n",
    "            if page > totalPages:\n",
    "                break\n",
    "    return results"
   ]
  },
  {
   "cell_type": "code",
   "execution_count": 7,
   "metadata": {},
   "outputs": [
    {
     "data": {
      "application/vnd.jupyter.widget-view+json": {
       "model_id": "c5e4814f38824554a159311ebc937b32",
       "version_major": 2,
       "version_minor": 0
      },
      "text/plain": [
       "HBox(children=(FloatProgress(value=0.0), HTML(value='')))"
      ]
     },
     "metadata": {},
     "output_type": "display_data"
    },
    {
     "name": "stdout",
     "output_type": "stream",
     "text": [
      "\n"
     ]
    }
   ],
   "source": [
    "pd_results = get_results(\"Vapor+Pressure\")"
   ]
  },
  {
   "cell_type": "code",
   "execution_count": 8,
   "metadata": {},
   "outputs": [
    {
     "data": {
      "image/png": "[encoded data removed]",
      "text/plain": [
       "<Figure size 432x288 with 1 Axes>"
      ]
     },
     "metadata": {
      "needs_background": "light"
     },
     "output_type": "display_data"
    }
   ],
   "source": [
    "def make_hist(results):\n",
    "    plt.hist(np.log10(list(results.keys())), bins=np.arange(10));\n",
    "    xticks = np.arange(10)\n",
    "    plt.xticks(xticks, ['$10^%d$' % x for x in xticks]);\n",
    "    plt.xlabel('PubChem ID')\n",
    "    plt.ylabel('Entry Count')\n",
    "    \n",
    "make_hist(pd_results)"
   ]
  },
  {
   "cell_type": "code",
   "execution_count": 9,
   "metadata": {},
   "outputs": [
    {
     "data": {
      "text/plain": [
       "5820"
      ]
     },
     "execution_count": 9,
     "metadata": {},
     "output_type": "execute_result"
    }
   ],
   "source": [
    "pd_cids = set(key for key in pd_results)\n",
    "len(pd_cids)"
   ]
  },
  {
   "cell_type": "code",
   "execution_count": 10,
   "metadata": {},
   "outputs": [
    {
     "data": {
      "text/plain": [
       "5820"
      ]
     },
     "execution_count": 10,
     "metadata": {},
     "output_type": "execute_result"
    }
   ],
   "source": [
    "all_statements = {}\n",
    "cids = sorted(set(pd_cids))\n",
    "for cid in cids:\n",
    "    ps = pd_results.get(cid, [])\n",
    "    all_statements[cid] = ps\n",
    "len(all_statements)"
   ]
  },
  {
   "cell_type": "code",
   "execution_count": 15,
   "metadata": {},
   "outputs": [],
   "source": [
    "import json\n",
    "with open('pubchem-vapor-pressure.json', 'w') as f:\n",
    "    json.dump(all_statements, f)"
   ]
  }
 ],
 "metadata": {
  "kernelspec": {
   "display_name": "Python 3",
   "language": "python",
   "name": "python3"
  },
  "language_info": {
   "codemirror_mode": {
    "name": "ipython",
    "version": 3
   },
   "file_extension": ".py",
   "mimetype": "text/x-python",
   "name": "python",
   "nbconvert_exporter": "python",
   "pygments_lexer": "ipython3",
   "version": "3.7.6"
  }
 },
 "nbformat": 4,
 "nbformat_minor": 4
}
