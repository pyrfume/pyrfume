{
 "cells": [
  {
   "cell_type": "code",
   "execution_count": null,
   "metadata": {},
   "outputs": [],
   "source": [
    "# Load raw Sigma FF data\n",
    "descriptors, data = sigma_ff.get_data()"
   ]
  },
  {
   "cell_type": "code",
   "execution_count": null,
   "metadata": {},
   "outputs": [],
   "source": [
    "# Turn CAS into CIDs\n",
    "cas_list = list(data.keys())\n",
    "results = odorants.get_cids(cas_list, kind='name', verbose=False)"
   ]
  },
  {
   "cell_type": "code",
   "execution_count": null,
   "metadata": {},
   "outputs": [],
   "source": [
    "# Format Sigma FF data into Dataframe with CIDs\n",
    "# Odorants without CIDs will have a CID of 0\n",
    "sigma = pd.DataFrame(index=cas_list, columns=['CID']+descriptors, data=0)\n",
    "sigma.index.name = 'CAS'\n",
    "for cas, desc in data.items():\n",
    "    sigma.loc[cas, 'CID'] = results[cas]\n",
    "    sigma.loc[cas, desc] = 1    \n",
    "sigma.head()"
   ]
  },
  {
   "cell_type": "code",
   "execution_count": null,
   "metadata": {},
   "outputs": [],
   "source": [
    "# Create a new file with CIDs and store here in `cids` dictionary\n",
    "file_path = os.path.join(pyrfume.DATA, 'sigma', 'sigma.csv')\n",
    "sigma.to_csv(file_path)"
   ]
  }
 ],
 "metadata": {
  "kernelspec": {
   "display_name": "Python 3",
   "language": "python",
   "name": "python3"
  },
  "language_info": {
   "codemirror_mode": {
    "name": "ipython",
    "version": 3
   },
   "file_extension": ".py",
   "mimetype": "text/x-python",
   "name": "python",
   "nbconvert_exporter": "python",
   "pygments_lexer": "ipython3",
   "version": "3.8.3"
  }
 },
 "nbformat": 4,
 "nbformat_minor": 4
}
