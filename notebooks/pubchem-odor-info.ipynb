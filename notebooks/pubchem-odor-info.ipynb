{
 "cells": [
  {
   "cell_type": "code",
   "execution_count": 104,
   "metadata": {},
   "outputs": [
    {
     "name": "stdout",
     "output_type": "stream",
     "text": [
      "The autoreload extension is already loaded. To reload it, use:\n",
      "  %reload_ext autoreload\n"
     ]
    }
   ],
   "source": [
    "%load_ext autoreload\n",
    "%autoreload 2\n",
    "import re\n",
    "import pandas as pd\n",
    "import seaborn as sns\n",
    "import matplotlib.pyplot as plt\n",
    "from rickpy import get_sheet, ProgressBar\n",
    "from olfactometer import odorants as o\n",
    "sns.set(font_scale=1.5)"
   ]
  },
  {
   "cell_type": "code",
   "execution_count": 11,
   "metadata": {},
   "outputs": [],
   "source": [
    "o.get_compound_odor(7945, raw=True);"
   ]
  },
  {
   "cell_type": "code",
   "execution_count": 12,
   "metadata": {},
   "outputs": [
    {
     "data": {
      "text/plain": [
       "['FATTY, GREEN CHEESE AROMA',\n",
       " 'FLORAL, BITTER, FRUITY (UNRIPE APPLE)',\n",
       " 'Pleasant']"
      ]
     },
     "execution_count": 12,
     "metadata": {},
     "output_type": "execute_result"
    }
   ],
   "source": [
    "o.get_compound_odor(8093)"
   ]
  },
  {
   "cell_type": "code",
   "execution_count": 13,
   "metadata": {},
   "outputs": [
    {
     "data": {
      "text/plain": [
       "['ETHYL ISOVALERATE is a colorless oily liquid with a strong odor similar to apples. Less dense than water. Vapors heavier than air. May mildly irritate skin and eyes.']"
      ]
     },
     "execution_count": 13,
     "metadata": {},
     "output_type": "execute_result"
    }
   ],
   "source": [
    "o.get_compound_odor(7945)"
   ]
  },
  {
   "cell_type": "code",
   "execution_count": 14,
   "metadata": {},
   "outputs": [
    {
     "data": {
      "text/html": [
       "<div>\n",
       "<style scoped>\n",
       "    .dataframe tbody tr th:only-of-type {\n",
       "        vertical-align: middle;\n",
       "    }\n",
       "\n",
       "    .dataframe tbody tr th {\n",
       "        vertical-align: top;\n",
       "    }\n",
       "\n",
       "    .dataframe thead th {\n",
       "        text-align: right;\n",
       "    }\n",
       "</style>\n",
       "<table border=\"1\" class=\"dataframe\">\n",
       "  <thead>\n",
       "    <tr style=\"text-align: right;\">\n",
       "      <th></th>\n",
       "      <th>ChemicalName</th>\n",
       "    </tr>\n",
       "    <tr>\n",
       "      <th>CID</th>\n",
       "      <th></th>\n",
       "    </tr>\n",
       "  </thead>\n",
       "  <tbody>\n",
       "    <tr>\n",
       "      <th>119</th>\n",
       "      <td>gamma-Aminobutyric acid</td>\n",
       "    </tr>\n",
       "    <tr>\n",
       "      <th>174</th>\n",
       "      <td>Poly(ethylene glycole)</td>\n",
       "    </tr>\n",
       "    <tr>\n",
       "      <th>176</th>\n",
       "      <td>Acetic Acid, Glacial</td>\n",
       "    </tr>\n",
       "    <tr>\n",
       "      <th>179</th>\n",
       "      <td>Acetoin</td>\n",
       "    </tr>\n",
       "    <tr>\n",
       "      <th>240</th>\n",
       "      <td>Benzaldeyhde</td>\n",
       "    </tr>\n",
       "  </tbody>\n",
       "</table>\n",
       "</div>"
      ],
      "text/plain": [
       "                ChemicalName\n",
       "CID                         \n",
       "119  gamma-Aminobutyric acid\n",
       "174   Poly(ethylene glycole)\n",
       "176     Acetic Acid, Glacial\n",
       "179                  Acetoin\n",
       "240             Benzaldeyhde"
      ]
     },
     "execution_count": 14,
     "metadata": {},
     "output_type": "execute_result"
    }
   ],
   "source": [
    "# Two Google sheets of odor cabinet data\n",
    "smith_cabinet = get_sheet('1PlU4zHyRXtcI7Y-O6xYtlIyKoKk8hX1I9zfx8KFELdc', 'smith-compounds').set_index('CID')\n",
    "gerkin_cabinet = get_sheet('1PlU4zHyRXtcI7Y-O6xYtlIyKoKk8hX1I9zfx8KFELdc', 'gerkin-compounds').set_index('CID')\n",
    "\n",
    "# Concatenate\n",
    "x = pd.concat([gerkin_cabinet[['ChemicalName']], smith_cabinet[['ChemicalName']]])\n",
    "\n",
    "# Drop duplicate CIDs\n",
    "x = x.groupby(level=0).first()\n",
    "\n",
    "x.head()"
   ]
  },
  {
   "cell_type": "code",
   "execution_count": 15,
   "metadata": {},
   "outputs": [
    {
     "name": "stdout",
     "output_type": "stream",
     "text": [
      "[-----------------------99%----------------------] 264 out of 265 complete"
     ]
    }
   ],
   "source": [
    "# Add odorant data from PubChem\n",
    "p = ProgressBar(x.shape[0])\n",
    "for i, CID in enumerate(x.index):\n",
    "    p.animate(i)\n",
    "    odor_info = o.get_compound_odor(CID)\n",
    "    x.loc[CID, 'n_odor_mentions'] = int(len(odor_info))\n",
    "    x.loc[CID, 'odor'] = ';'.join(odor_info)"
   ]
  },
  {
   "cell_type": "code",
   "execution_count": 32,
   "metadata": {},
   "outputs": [
    {
     "name": "stdout",
     "output_type": "stream",
     "text": [
      "There are 140 compounds in 'nothing'\n",
      "There are 30 compounds in 'odorless'\n",
      "There are 95 compounds in 'odorous'\n"
     ]
    }
   ],
   "source": [
    "kinds = {}\n",
    "\n",
    "# Which CIDs contain no odor info\n",
    "kinds['nothing'] = x[x['odor']==''].index\n",
    "\n",
    "# Which CIDs are claimed to be odorless\n",
    "kinds['odorless'] = x[x['odor'].str.lower().str.contains('odorless')].index\n",
    "\n",
    "# Which CIDs have some other kind of odor information\n",
    "kinds['odorous'] = x[~x.index.isin(nothing) & ~x.index.isin(odorless)].index\n",
    "\n",
    "for kind in kinds:\n",
    "    print(\"There are %d compounds in '%s'\" % (len(kinds[kind]), kind))"
   ]
  },
  {
   "cell_type": "code",
   "execution_count": 18,
   "metadata": {},
   "outputs": [
    {
     "name": "stdout",
     "output_type": "stream",
     "text": [
      "Retrieving 0 through 99\n",
      "Retrieving 100 through 199\n",
      "Retrieving 200 through 264\n"
     ]
    }
   ],
   "source": [
    "# Get basic molecular properties (MW and octanol/water partition coefficient)\n",
    "records = o.from_cids(x.index, property_list=['MolecularWeight', 'XlogP'])"
   ]
  },
  {
   "cell_type": "code",
   "execution_count": 19,
   "metadata": {},
   "outputs": [
    {
     "name": "stdout",
     "output_type": "stream",
     "text": [
      "magnesium ion\n",
      "potassium chloride\n",
      "sodium chloride\n",
      "histamine dihydrochloride\n",
      "pilocarpine hydrochloride\n",
      "tetraethylammonium chloride\n",
      "acetylcholine chloride\n",
      "yohimbine hydrochloride\n",
      "choline chloride\n",
      "boric acid\n",
      "mecamylamine hydrochloride\n",
      "potassium hydroxide\n",
      "sodium hydroxide\n",
      "selenocystine\n",
      "7411-49-6\n",
      "poloxamer 188\n",
      "potassium alum\n",
      "cadmium chloride\n",
      "barium chloride\n",
      "ammonium chloride\n",
      "sodium selenate\n",
      "potassium ferricyanide\n",
      "butaclamol hydrochloride\n",
      "brilliant blue r\n",
      "ammonium persulfate\n",
      "verapamil hydrochloride\n",
      "delphinidin chloride\n",
      "mianserin hydrochloride\n",
      "trisodium citrate dihydrate\n",
      "dimaprit dihydrochloride\n",
      "1185-53-1\n",
      "octopamine hydrochloride\n",
      "methylene blue trihydrate\n",
      "propidium iodide\n",
      "28718-90-3\n",
      "serotonin hydrochloride\n",
      "titanium(iv) chloride\n",
      "6138-23-4\n",
      "cgp 54626 hydrochloride\n",
      "lithium chloride\n",
      "sodium bicarbonate\n",
      "10049-21-5\n",
      "potassium dihydrogen phosphate\n",
      "potassium acetate\n",
      "sodium acetate\n",
      "ammonium acetate\n",
      "sodium metabisulfite\n",
      "sodium dimethylarsinate\n",
      "75277-39-3\n",
      "h-d-arg(no2)-ome hcl\n",
      "sodium dodecyl sulfate\n",
      "62625-28-9\n",
      "sodium borohydride\n",
      "flupentixol dihydrochloride\n",
      "barium chloride dihydrate\n",
      "calcium chloride\n",
      "pyrilamine maleate\n",
      "magnesium chloride\n",
      "10035-04-8\n",
      "7782-85-6\n",
      "nicotine ditartrate\n",
      "lucifer yellow ch dipotassium salt\n",
      "quinine hydrochloride dihydrate\n",
      "quinine sulfate dihydrate\n",
      "benzamidine hydrochloride hydrate\n",
      "potassium gluconate\n",
      "d-glucose monohydrate\n",
      "ampicillin sodium\n",
      "sodium nitrite\n",
      "2650-17-1\n",
      "70331-82-7\n",
      "8-bromo-camp, sodium salt\n",
      "6381-92-6\n",
      "tetracycline hydrochloride\n",
      "cresyl violet acetate\n"
     ]
    }
   ],
   "source": [
    "# Add these records to the dataframe\n",
    "# Skip XLogP when it isn't found\n",
    "for record in records:\n",
    "    x.loc[record['CID'], 'MW'] = record['MolecularWeight']\n",
    "    try:\n",
    "        x.loc[record['CID'], 'XLogP'] = record['XLogP']\n",
    "    except KeyError:\n",
    "        print(record['name'])"
   ]
  },
  {
   "cell_type": "code",
   "execution_count": 34,
   "metadata": {},
   "outputs": [
    {
     "data": {
      "text/plain": [
       "(-10, 10)"
      ]
     },
     "execution_count": 34,
     "metadata": {},
     "output_type": "execute_result"
    },
    {
     "data": {
      "image/png": "[encoded data removed]",
      "text/plain": [
       "<Figure size 432x288 with 1 Axes>"
      ]
     },
     "metadata": {},
     "output_type": "display_data"
    }
   ],
   "source": [
    "plt.figure()\n",
    "ax = plt.gca()\n",
    "for color, kind in {'r':'nothing', 'g':'odorless', 'b':'odorous'}.items():\n",
    "    x.loc[kinds[kind]].plot.scatter(x='MW', y='XLogP', alpha=0.5, c=color, ax=ax, label=kind)\n",
    "plt.xscale('log')\n",
    "plt.xlim(10,1000)\n",
    "plt.ylim(-10,10)"
   ]
  },
  {
   "cell_type": "code",
   "execution_count": 54,
   "metadata": {},
   "outputs": [
    {
     "name": "stdout",
     "output_type": "stream",
     "text": [
      "[-----------------------99%----------------------] 264 out of 265 complete"
     ]
    }
   ],
   "source": [
    "# Add odorant boiling point data from PubChem\n",
    "p = ProgressBar(x.shape[0])\n",
    "for i, cid in enumerate(x.index):\n",
    "    p.animate(i)\n",
    "    z = o.get_compound_summary(cid, 'Boiling Point')\n",
    "    if z and len(z):\n",
    "        x.loc[cid, 'BP'] = str(o._parse_other_info(z)[0])"
   ]
  },
  {
   "cell_type": "code",
   "execution_count": 105,
   "metadata": {},
   "outputs": [],
   "source": [
    "# Parse this into boiling points in Celsius\n",
    "for cid, bp_raw in x['BP'].iteritems():\n",
    "    if isinstance(bp_raw,str):#math.isnan(bp_raw):\n",
    "        num = re.findall(\"[-+]?[0-9]*\\.?[0-9]+\", bp_raw)[0]\n",
    "        units = None\n",
    "        if any([s in bp_raw for s in ['° F','°F','deg F','DEG F']]):\n",
    "            units = 'F' \n",
    "        if any([s in bp_raw for s in ['° C','°C','deg C','DEG C']]):\n",
    "            units = 'C'\n",
    "        #print(cid, num, units)\n",
    "        if units == 'C':\n",
    "            bp_C = float(num)\n",
    "        elif units == 'F':\n",
    "            bp_C = (5.0/9) * (float(num) - 40)\n",
    "        if units:\n",
    "            x.loc[cid, 'BP_C'] = bp_C"
   ]
  },
  {
   "cell_type": "code",
   "execution_count": 106,
   "metadata": {},
   "outputs": [
    {
     "data": {
      "text/plain": [
       "(-10, 10)"
      ]
     },
     "execution_count": 106,
     "metadata": {},
     "output_type": "execute_result"
    },
    {
     "data": {
      "image/png": "[encoded data removed]",
      "text/plain": [
       "<Figure size 432x288 with 1 Axes>"
      ]
     },
     "metadata": {},
     "output_type": "display_data"
    }
   ],
   "source": [
    "plt.figure()\n",
    "ax = plt.gca()\n",
    "for color, kind in {'r':'nothing', 'g':'odorless', 'b':'odorous'}.items():\n",
    "    x.loc[kinds[kind]].plot.scatter(x='BP_C', y='XLogP', alpha=0.5, c=color, ax=ax, label=kind)\n",
    "plt.xscale('log')\n",
    "plt.xlim(10,1000)\n",
    "plt.ylim(-10,10)"
   ]
  }
 ],
 "metadata": {
  "kernelspec": {
   "display_name": "Python 3",
   "language": "python",
   "name": "python3"
  },
  "language_info": {
   "codemirror_mode": {
    "name": "ipython",
    "version": 3
   },
   "file_extension": ".py",
   "mimetype": "text/x-python",
   "name": "python",
   "nbconvert_exporter": "python",
   "pygments_lexer": "ipython3",
   "version": "3.8.3"
  }
 },
 "nbformat": 4,
 "nbformat_minor": 4
}
