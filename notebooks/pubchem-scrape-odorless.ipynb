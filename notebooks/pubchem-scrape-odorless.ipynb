{
 "cells": [
  {
   "cell_type": "markdown",
   "metadata": {},
   "source": [
    "# Obtaining information about odor from PubChem"
   ]
  },
  {
   "cell_type": "markdown",
   "metadata": {},
   "source": [
    "TODO:\n",
    "- For the slights/blands, it's not that I think the label inherently means odorless.\n",
    "- I would also add \"mild\" to that list - found that one a few times since I sent the first e-mail.\n",
    "- Maybe we could pull the slight/bland/mild odors and do some more visual inspection.-\n",
    "- If the majority are improbable odors we can drop the set. "
   ]
  },
  {
   "cell_type": "code",
   "execution_count": 21,
   "metadata": {},
   "outputs": [],
   "source": [
    "%matplotlib inline\n",
    "from IPython.display import HTML, display\n",
    "import matplotlib.pyplot as plt\n",
    "import numpy as np\n",
    "import pandas as pd\n",
    "import pyrfume\n",
    "from pyrfume import pubchem\n",
    "import re\n",
    "import requests\n",
    "from tqdm.auto import tqdm"
   ]
  },
  {
   "cell_type": "code",
   "execution_count": 7,
   "metadata": {},
   "outputs": [
    {
     "name": "stdout",
     "output_type": "stream",
     "text": [
      "Requirement already satisfied: tqdm in /home/rgerkin/miniconda3/lib/python3.8/site-packages (4.46.0)\n",
      "Note: you may need to restart the kernel to use updated packages.\n"
     ]
    }
   ],
   "source": [
    "pip install tqdm"
   ]
  },
  {
   "cell_type": "code",
   "execution_count": 8,
   "metadata": {},
   "outputs": [],
   "source": [
    "def update_results(records, results):\n",
    "    \"\"\"For a given set of PubChem records, add any strings with the matching keywords to the list of results\"\"\"\n",
    "    keywords = ('odor', 'odour', 'smell', 'aroma ', 'aroma,', 'aroma.', 'fragrance')\n",
    "    for annotation in records['Annotations']['Annotation']:\n",
    "        try:\n",
    "            cids = annotation['LinkedRecords']['CID']\n",
    "        except:\n",
    "            pass\n",
    "        else:\n",
    "            strings = [] \n",
    "            for x in annotation['Data']:\n",
    "                for y in x['Value']['StringWithMarkup']:\n",
    "                    if any([z in y['String'].lower() for z in keywords]):\n",
    "                        strings.append(y['String'])\n",
    "            for cid in cids:\n",
    "                if cid in results:\n",
    "                    results[cid] += strings\n",
    "                elif strings:\n",
    "                    results[cid] = strings"
   ]
  },
  {
   "cell_type": "code",
   "execution_count": 9,
   "metadata": {},
   "outputs": [],
   "source": [
    "def get_results(heading):\n",
    "    \"\"\"Get all records under a given record heading from PubChem/\n",
    "    Update results from those records.\"\"\"\n",
    "    page = 1\n",
    "    results = {}\n",
    "    with tqdm(total=100) as pbar:\n",
    "        while True:\n",
    "            url = (f\"https://pubchem.ncbi.nlm.nih.gov/rest/pug_view/annotations/heading/\"\n",
    "                   f\"JSON?heading_type=Compound&heading={heading}&page={page}\")\n",
    "            response = requests.get(url)\n",
    "            records = response.json()\n",
    "            update_results(records, results)\n",
    "            totalPages = records['Annotations']['TotalPages']\n",
    "            if page==1:\n",
    "                pbar.reset(total=totalPages)\n",
    "            pbar.set_description(\"%d CIDs described\" % len(results))\n",
    "            pbar.update()\n",
    "            page += 1\n",
    "            if page > totalPages:\n",
    "                break\n",
    "    return results"
   ]
  },
  {
   "cell_type": "code",
   "execution_count": 11,
   "metadata": {},
   "outputs": [],
   "source": [
    "def make_hist(results):\n",
    "    \"\"\"Show a histogram of results by PubChem ID number\n",
    "    This is useful for showing the density of information as you get to more and more obscure molecules\"\"\"\n",
    "    plt.hist(np.log10(list(results.keys())), bins=np.arange(10));\n",
    "    xticks = np.arange(10)\n",
    "    plt.xticks(xticks, ['$10^%d$' % x for x in xticks]);\n",
    "    plt.xlabel('PubChem ID')\n",
    "    plt.ylabel('Entry Count')"
   ]
  },
  {
   "cell_type": "code",
   "execution_count": 10,
   "metadata": {},
   "outputs": [
    {
     "data": {
      "application/vnd.jupyter.widget-view+json": {
       "model_id": "ab6b71fdfedd447eac2a5814944ea030",
       "version_major": 2,
       "version_minor": 0
      },
      "text/plain": [
       "HBox(children=(FloatProgress(value=0.0), HTML(value='')))"
      ]
     },
     "metadata": {},
     "output_type": "display_data"
    },
    {
     "name": "stdout",
     "output_type": "stream",
     "text": [
      "\n"
     ]
    }
   ],
   "source": [
    "# Get all results from PubChem under the \"Physical Description\" heading\n",
    "pd_results = get_results(\"Physical+Description\")"
   ]
  },
  {
   "cell_type": "code",
   "execution_count": 12,
   "metadata": {},
   "outputs": [
    {
     "data": {
      "image/png": "[encoded data removed]",
      "text/plain": [
       "<Figure size 432x288 with 1 Axes>"
      ]
     },
     "metadata": {
      "needs_background": "light"
     },
     "output_type": "display_data"
    }
   ],
   "source": [
    "# Show the histogram for odor information under then Physical Description heading\n",
    "make_hist(pd_results)"
   ]
  },
  {
   "cell_type": "code",
   "execution_count": 13,
   "metadata": {},
   "outputs": [
    {
     "data": {
      "application/vnd.jupyter.widget-view+json": {
       "model_id": "2684855d585f4487a4e0093661a458ae",
       "version_major": 2,
       "version_minor": 0
      },
      "text/plain": [
       "HBox(children=(FloatProgress(value=0.0), HTML(value='')))"
      ]
     },
     "metadata": {},
     "output_type": "display_data"
    },
    {
     "name": "stdout",
     "output_type": "stream",
     "text": [
      "\n"
     ]
    }
   ],
   "source": [
    "# Get all results from PubChem under the \"Record Description\" heading\n",
    "rd_results = get_results(\"Record+Description\")"
   ]
  },
  {
   "cell_type": "code",
   "execution_count": 14,
   "metadata": {},
   "outputs": [
    {
     "data": {
      "image/png": "[encoded data removed]",
      "text/plain": [
       "<Figure size 432x288 with 1 Axes>"
      ]
     },
     "metadata": {
      "needs_background": "light"
     },
     "output_type": "display_data"
    }
   ],
   "source": [
    "# Show the histogram for odor information under then Physical Description heading\n",
    "make_hist(rd_results)"
   ]
  },
  {
   "cell_type": "code",
   "execution_count": 15,
   "metadata": {},
   "outputs": [
    {
     "data": {
      "text/plain": [
       "(2057, 3433, 135, 1511)"
      ]
     },
     "execution_count": 15,
     "metadata": {},
     "output_type": "execute_result"
    }
   ],
   "source": [
    "# To what extent do these two headings give odor information about the same molecules vs different molecules\n",
    "# Shown as RD, PD, RD but not PD, PD but not RD\n",
    "rd_cids = set(key for key in rd_results)\n",
    "pd_cids = set(key for key in pd_results)\n",
    "len(rd_cids), len(pd_cids), len(rd_cids.difference(pd_cids)), len(pd_cids.difference(rd_cids))"
   ]
  },
  {
   "cell_type": "code",
   "execution_count": 16,
   "metadata": {},
   "outputs": [
    {
     "data": {
      "text/plain": [
       "3568"
      ]
     },
     "execution_count": 16,
     "metadata": {},
     "output_type": "execute_result"
    }
   ],
   "source": [
    "# Make a master list of all odor statements from these sources, removing duplicates\n",
    "all_statements = {}\n",
    "cids = sorted(set(rd_cids) | set(pd_cids))\n",
    "for cid in cids:\n",
    "    rs = rd_results.get(cid, [])\n",
    "    ps = pd_results.get(cid, [])\n",
    "    all_statements[cid] = rs + ps\n",
    "len(all_statements)"
   ]
  },
  {
   "cell_type": "code",
   "execution_count": 18,
   "metadata": {},
   "outputs": [],
   "source": [
    "def color(cid, s, code):\n",
    "    \"\"\"A function for color styling in the HTML output\"\"\"\n",
    "    return \"<p style='color: %s'>%d: %s</p>\" % (code, cid, s)\n",
    "\n",
    "# Assignment of particular phrases, matched via regular expressions, to the odorous, odorless, and ambiguous categories.\n",
    "# Refine as needed.\n",
    "# 'aroma' needs the trailing space to avoid matching 'aromatic' which has chemical but not necessarily olfactory implications\n",
    "odorous_phrases = ['odor', 'odour', 'smell', 'fragrance', 'aroma ', 'sense of smell']\n",
    "odorless_phrases = ['no odor', 'no odour', 'no smell', 'no fragrance', 'odorless', 'odourless']\n",
    "ambiguous_phrases = ['odoratus']\n",
    "\n",
    "def make_html(all_statements):\n",
    "    ### Make an HTML file with the statements and their encoding.\n",
    "    html = \"\"\n",
    "    for cid, statements in all_statements.items():\n",
    "        for statement in statements:\n",
    "            statement = statement.lower()\n",
    "            if any([re.findall(phrase, statement) for phrase in odorless_phrases]):\n",
    "                html += color(cid, statement, '#DD0000')\n",
    "            elif any([re.findall(phrase, statement) for phrase in ambiguous_phrases]):\n",
    "                html += color(cid, statement, '#000000')\n",
    "            elif any([re.findall(phrase, statement) for phrase in odorous_phrases]):\n",
    "                html += color(cid, statement, '#009900')\n",
    "            else:\n",
    "                html += color(cid, statement, '#000000')\n",
    "    return html\n",
    "\n",
    "# Create the HTML file\n",
    "html = make_html(all_statements)\n",
    "\n",
    "# Save the HTML file\n",
    "with open('../../pyrfume-data/pubchem/pubchem_scrape.html', 'w') as f:\n",
    "    f.write(html)"
   ]
  },
  {
   "cell_type": "code",
   "execution_count": 19,
   "metadata": {},
   "outputs": [],
   "source": [
    "# Save a Python pickle file of all the statements in the Pyrfume data repository\n",
    "path = 'pubchem/pubchem_scrape.pkl'\n",
    "pyrfume.save_data(all_statements, path)"
   ]
  },
  {
   "cell_type": "code",
   "execution_count": 26,
   "metadata": {},
   "outputs": [],
   "source": [
    "# Create a dataframe to store the statements\n",
    "df = pd.DataFrame(index=sorted(all_statements),\n",
    "                  columns=['Odor', 'Odorless', 'Statements'])\n",
    "df.index.name = 'CID'\n",
    "\n",
    "# Fill this dataframe with the assignment (odor, odorless, or (!!) both),\n",
    "# and the corresponding statements supporting that assignment\n",
    "for cid in sorted(all_statements):\n",
    "    statements = all_statements[cid]\n",
    "    odor = False\n",
    "    odorless = False\n",
    "    for statement in statements:\n",
    "        statement = statement.lower()\n",
    "        if re.findall('no odor', statement):\n",
    "            odorless = True\n",
    "        elif re.findall('no odour', statement):\n",
    "            odorless = True\n",
    "        elif re.findall('no smell', statement):\n",
    "            odorless = True\n",
    "        elif re.findall('no fragrance', statement):\n",
    "            odorless = True\n",
    "        elif re.findall('odorless', statement):\n",
    "            odorless = True\n",
    "        elif re.findall('odourless', statement):\n",
    "            odorless = True\n",
    "        elif re.findall('odoratus', statement):\n",
    "            pass\n",
    "        elif re.findall('sense of smell', statement):\n",
    "            odor = True\n",
    "        elif re.findall('odor', statement):\n",
    "            odor = True\n",
    "        elif re.findall('odour', statement):\n",
    "            odor = True\n",
    "        elif re.findall('smell', statement):\n",
    "            odor = True\n",
    "        elif re.findall('fragrance', statement):\n",
    "            odor = True\n",
    "        elif re.findall('aroma ', statement):\n",
    "            odor = True\n",
    "        else:\n",
    "            pass\n",
    "    # Uncomment the two lines below to see cases where this happens.\n",
    "    #if odor and odorless:\n",
    "    #    print(\"\\nOdorous and odorless! Statements were: \" + str(statements))\n",
    "    df.loc[cid, :] = [odor, odorless, statements]"
   ]
  },
  {
   "cell_type": "code",
   "execution_count": 28,
   "metadata": {},
   "outputs": [
    {
     "data": {
      "text/html": [
       "<div>\n",
       "<style scoped>\n",
       "    .dataframe tbody tr th:only-of-type {\n",
       "        vertical-align: middle;\n",
       "    }\n",
       "\n",
       "    .dataframe tbody tr th {\n",
       "        vertical-align: top;\n",
       "    }\n",
       "\n",
       "    .dataframe thead th {\n",
       "        text-align: right;\n",
       "    }\n",
       "</style>\n",
       "<table border=\"1\" class=\"dataframe\">\n",
       "  <thead>\n",
       "    <tr style=\"text-align: right;\">\n",
       "      <th></th>\n",
       "      <th>Odor</th>\n",
       "      <th>Odorless</th>\n",
       "      <th>Statements</th>\n",
       "    </tr>\n",
       "    <tr>\n",
       "      <th>CID</th>\n",
       "      <th></th>\n",
       "      <th></th>\n",
       "      <th></th>\n",
       "    </tr>\n",
       "  </thead>\n",
       "  <tbody>\n",
       "    <tr>\n",
       "      <th>4</th>\n",
       "      <td>True</td>\n",
       "      <td>False</td>\n",
       "      <td>[Monoisopropanolamine appears as a colorless l...</td>\n",
       "    </tr>\n",
       "    <tr>\n",
       "      <th>6</th>\n",
       "      <td>True</td>\n",
       "      <td>False</td>\n",
       "      <td>[1-chloro-2,4-dinitrobenzene appears as pale y...</td>\n",
       "    </tr>\n",
       "    <tr>\n",
       "      <th>11</th>\n",
       "      <td>True</td>\n",
       "      <td>False</td>\n",
       "      <td>[1,2-Dichloroethane, also called ethylene dich...</td>\n",
       "    </tr>\n",
       "    <tr>\n",
       "      <th>13</th>\n",
       "      <td>True</td>\n",
       "      <td>False</td>\n",
       "      <td>[1,2,4-trichlorobenzene appears as colorless l...</td>\n",
       "    </tr>\n",
       "    <tr>\n",
       "      <th>33</th>\n",
       "      <td>True</td>\n",
       "      <td>False</td>\n",
       "      <td>[2-chloroethanal appears as a clear colorless ...</td>\n",
       "    </tr>\n",
       "    <tr>\n",
       "      <th>34</th>\n",
       "      <td>True</td>\n",
       "      <td>False</td>\n",
       "      <td>[Ethylene chlorohydrin is a colorless liquid w...</td>\n",
       "    </tr>\n",
       "    <tr>\n",
       "      <th>66</th>\n",
       "      <td>True</td>\n",
       "      <td>False</td>\n",
       "      <td>[Prisms (from benzene, petroleum ether) or whi...</td>\n",
       "    </tr>\n",
       "    <tr>\n",
       "      <th>107</th>\n",
       "      <td>True</td>\n",
       "      <td>False</td>\n",
       "      <td>[White crystalline solid, faint, sweet, somewh...</td>\n",
       "    </tr>\n",
       "    <tr>\n",
       "      <th>125</th>\n",
       "      <td>True</td>\n",
       "      <td>False</td>\n",
       "      <td>[White crystalline powder; slightly fruity-swe...</td>\n",
       "    </tr>\n",
       "    <tr>\n",
       "      <th>126</th>\n",
       "      <td>True</td>\n",
       "      <td>False</td>\n",
       "      <td>[Beige powder; vanillic/nutty odour]</td>\n",
       "    </tr>\n",
       "    <tr>\n",
       "      <th>135</th>\n",
       "      <td>True</td>\n",
       "      <td>False</td>\n",
       "      <td>[White crystalline powder; faint nutty odour]</td>\n",
       "    </tr>\n",
       "    <tr>\n",
       "      <th>174</th>\n",
       "      <td>False</td>\n",
       "      <td>True</td>\n",
       "      <td>[Ethylene glycol is a synthetic liquid substan...</td>\n",
       "    </tr>\n",
       "    <tr>\n",
       "      <th>176</th>\n",
       "      <td>True</td>\n",
       "      <td>False</td>\n",
       "      <td>[Acetic acid, glacial appears as a clear color...</td>\n",
       "    </tr>\n",
       "    <tr>\n",
       "      <th>177</th>\n",
       "      <td>True</td>\n",
       "      <td>False</td>\n",
       "      <td>[Acetaldehyde appears as a clear colorless liq...</td>\n",
       "    </tr>\n",
       "    <tr>\n",
       "      <th>178</th>\n",
       "      <td>True</td>\n",
       "      <td>False</td>\n",
       "      <td>[Acetamide appears as colorless crystals with ...</td>\n",
       "    </tr>\n",
       "    <tr>\n",
       "      <th>179</th>\n",
       "      <td>True</td>\n",
       "      <td>False</td>\n",
       "      <td>[colourless to pale yellow liquid (monomer), o...</td>\n",
       "    </tr>\n",
       "    <tr>\n",
       "      <th>180</th>\n",
       "      <td>True</td>\n",
       "      <td>False</td>\n",
       "      <td>[Acetone is a manufactured chemical that is al...</td>\n",
       "    </tr>\n",
       "    <tr>\n",
       "      <th>196</th>\n",
       "      <td>False</td>\n",
       "      <td>True</td>\n",
       "      <td>[ODOURLESS COLOURLESS CRYSTALLINE POWDER., Whi...</td>\n",
       "    </tr>\n",
       "    <tr>\n",
       "      <th>222</th>\n",
       "      <td>True</td>\n",
       "      <td>False</td>\n",
       "      <td>[Ammonia occurs naturally and is produced by h...</td>\n",
       "    </tr>\n",
       "    <tr>\n",
       "      <th>227</th>\n",
       "      <td>False</td>\n",
       "      <td>True</td>\n",
       "      <td>[Anthranilic acid appears as odorless white to...</td>\n",
       "    </tr>\n",
       "  </tbody>\n",
       "</table>\n",
       "</div>"
      ],
      "text/plain": [
       "      Odor Odorless                                         Statements\n",
       "CID                                                                   \n",
       "4     True    False  [Monoisopropanolamine appears as a colorless l...\n",
       "6     True    False  [1-chloro-2,4-dinitrobenzene appears as pale y...\n",
       "11    True    False  [1,2-Dichloroethane, also called ethylene dich...\n",
       "13    True    False  [1,2,4-trichlorobenzene appears as colorless l...\n",
       "33    True    False  [2-chloroethanal appears as a clear colorless ...\n",
       "34    True    False  [Ethylene chlorohydrin is a colorless liquid w...\n",
       "66    True    False  [Prisms (from benzene, petroleum ether) or whi...\n",
       "107   True    False  [White crystalline solid, faint, sweet, somewh...\n",
       "125   True    False  [White crystalline powder; slightly fruity-swe...\n",
       "126   True    False               [Beige powder; vanillic/nutty odour]\n",
       "135   True    False      [White crystalline powder; faint nutty odour]\n",
       "174  False     True  [Ethylene glycol is a synthetic liquid substan...\n",
       "176   True    False  [Acetic acid, glacial appears as a clear color...\n",
       "177   True    False  [Acetaldehyde appears as a clear colorless liq...\n",
       "178   True    False  [Acetamide appears as colorless crystals with ...\n",
       "179   True    False  [colourless to pale yellow liquid (monomer), o...\n",
       "180   True    False  [Acetone is a manufactured chemical that is al...\n",
       "196  False     True  [ODOURLESS COLOURLESS CRYSTALLINE POWDER., Whi...\n",
       "222   True    False  [Ammonia occurs naturally and is produced by h...\n",
       "227  False     True  [Anthranilic acid appears as odorless white to..."
      ]
     },
     "execution_count": 28,
     "metadata": {},
     "output_type": "execute_result"
    }
   ],
   "source": [
    "# Preview this assignments\n",
    "df.head(20)"
   ]
  }
 ],
 "metadata": {
  "kernelspec": {
   "display_name": "Python 3",
   "language": "python",
   "name": "python3"
  },
  "language_info": {
   "codemirror_mode": {
    "name": "ipython",
    "version": 3
   },
   "file_extension": ".py",
   "mimetype": "text/x-python",
   "name": "python",
   "nbconvert_exporter": "python",
   "pygments_lexer": "ipython3",
   "version": "3.8.3"
  }
 },
 "nbformat": 4,
 "nbformat_minor": 4
}
