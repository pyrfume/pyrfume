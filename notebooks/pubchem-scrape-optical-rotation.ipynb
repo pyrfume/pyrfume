{
 "cells": [
  {
   "cell_type": "code",
   "execution_count": 1,
   "metadata": {},
   "outputs": [],
   "source": [
    "%matplotlib inline\n",
    "from IPython.display import HTML, display\n",
    "import matplotlib.pyplot as plt\n",
    "import numpy as np\n",
    "import pyrfume\n",
    "from pyrfume import pubchem\n",
    "import re\n",
    "import requests\n",
    "from tqdm.auto import tqdm"
   ]
  },
  {
   "cell_type": "code",
   "execution_count": 8,
   "metadata": {},
   "outputs": [],
   "source": [
    "def update_results(records, results):\n",
    "    for annotation in records['Annotations']['Annotation']:\n",
    "        try:\n",
    "            cids = annotation['LinkedRecords']['CID']\n",
    "        except:\n",
    "            pass\n",
    "        else:\n",
    "            strings = [] \n",
    "            for x in annotation['Data']:\n",
    "                for y in x['Value']['StringWithMarkup']:\n",
    "                    strings.append(y['String'])\n",
    "            for cid in cids:\n",
    "                if cid in results:\n",
    "                    results[cid] += strings\n",
    "                elif strings:\n",
    "                    results[cid] = strings"
   ]
  },
  {
   "cell_type": "code",
   "execution_count": 9,
   "metadata": {},
   "outputs": [],
   "source": [
    "def get_results(heading):\n",
    "    page = 1\n",
    "    results = {}\n",
    "    with tqdm(total=100) as pbar:\n",
    "        while True:\n",
    "            url = (f\"https://pubchem.ncbi.nlm.nih.gov/rest/pug_view/annotations/heading/\"\n",
    "                   f\"JSON?heading_type=Compound&heading={heading}&page={page}\")\n",
    "            response = requests.get(url)\n",
    "            records = response.json()\n",
    "            update_results(records, results)\n",
    "            totalPages = records['Annotations']['TotalPages']\n",
    "            if page==1:\n",
    "                pbar.reset(total=totalPages)\n",
    "            pbar.set_description(\"%d CIDs described\" % len(results))\n",
    "            pbar.update()\n",
    "            page += 1\n",
    "            if page > totalPages:\n",
    "                break\n",
    "    return results"
   ]
  },
  {
   "cell_type": "code",
   "execution_count": 10,
   "metadata": {},
   "outputs": [
    {
     "data": {
      "application/vnd.jupyter.widget-view+json": {
       "model_id": "11658c4459294603918250f8a5184024",
       "version_major": 2,
       "version_minor": 0
      },
      "text/plain": [
       "HBox(children=(FloatProgress(value=0.0), HTML(value='')))"
      ]
     },
     "metadata": {},
     "output_type": "display_data"
    },
    {
     "name": "stdout",
     "output_type": "stream",
     "text": [
      "\n"
     ]
    }
   ],
   "source": [
    "pd_results = get_results(\"Optical+Rotation\")"
   ]
  },
  {
   "cell_type": "code",
   "execution_count": 12,
   "metadata": {},
   "outputs": [
    {
     "data": {
      "image/png": "[encoded data removed]",
      "text/plain": [
       "<Figure size 432x288 with 1 Axes>"
      ]
     },
     "metadata": {
      "needs_background": "light"
     },
     "output_type": "display_data"
    }
   ],
   "source": [
    "def make_hist(results):\n",
    "    plt.hist(np.log10(list(results.keys())), bins=np.arange(10));\n",
    "    xticks = np.arange(10)\n",
    "    plt.xticks(xticks, ['$10^%d$' % x for x in xticks]);\n",
    "    plt.xlabel('PubChem ID')\n",
    "    plt.ylabel('Entry Count')\n",
    "    \n",
    "make_hist(pd_results)"
   ]
  },
  {
   "cell_type": "code",
   "execution_count": 15,
   "metadata": {},
   "outputs": [
    {
     "data": {
      "text/plain": [
       "1623"
      ]
     },
     "execution_count": 15,
     "metadata": {},
     "output_type": "execute_result"
    }
   ],
   "source": [
    "all_statements = {}\n",
    "cids = sorted(set(pd_results.keys()))\n",
    "for cid in cids:\n",
    "    ps = pd_results.get(cid, [])\n",
    "    all_statements[cid] = ps\n",
    "len(all_statements)"
   ]
  },
  {
   "cell_type": "code",
   "execution_count": 19,
   "metadata": {},
   "outputs": [],
   "source": [
    "def color(cid, s, code):\n",
    "    return \"<p style='color: %s'>%d: %s</p>\" % (code, cid, s)\n",
    "\n",
    "# 'aroma' needs the trailing space to avoid matching 'aromatic'\n",
    "plus_phrases = ['odor', 'odour', 'smell', 'fragrance', 'aroma ', 'sense of smell']\n",
    "minus_phrases = ['no odor', 'no odour', 'no smell', 'no fragrance', 'odorless', 'odourless']\n",
    "\n",
    "def make_html(all_statements):\n",
    "    html = \"\"\n",
    "    for cid, statements in all_statements.items():\n",
    "        for statement in statements:\n",
    "            statement = statement.lower()\n",
    "            if any([re.findall(phrase, statement) for phrase in plus_phrases]):\n",
    "                html += color(cid, statement, '#DD0000')\n",
    "            elif any([re.findall(phrase, statement) for phrase in minus_phrases]):\n",
    "                html += color(cid, statement, '#009900')\n",
    "            else:\n",
    "                html += color(cid, statement, '#000000')\n",
    "    return html\n",
    "\n",
    "html = make_html(all_statements)\n",
    "#display(HTML(html))\n",
    "with open('../../pyrfume-data/pubchem/pubchem_scrape_optical_rotation.html', 'w') as f:\n",
    "    f.write(html)"
   ]
  },
  {
   "cell_type": "code",
   "execution_count": 21,
   "metadata": {},
   "outputs": [],
   "source": [
    "path = 'pubchem/pubchem_scrape_optical_rotation.pkl'\n",
    "pyrfume.save_data(all_statements, path)"
   ]
  }
 ],
 "metadata": {
  "kernelspec": {
   "display_name": "Python 3",
   "language": "python",
   "name": "python3"
  },
  "language_info": {
   "codemirror_mode": {
    "name": "ipython",
    "version": 3
   },
   "file_extension": ".py",
   "mimetype": "text/x-python",
   "name": "python",
   "nbconvert_exporter": "python",
   "pygments_lexer": "ipython3",
   "version": "3.8.3"
  }
 },
 "nbformat": 4,
 "nbformat_minor": 4
}
