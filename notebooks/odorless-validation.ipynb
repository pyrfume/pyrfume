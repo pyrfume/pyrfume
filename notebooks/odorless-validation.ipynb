{
 "cells": [
  {
   "cell_type": "code",
   "execution_count": 23,
   "metadata": {},
   "outputs": [],
   "source": [
    "import json\n",
    "import pandas as pd\n",
    "import pyrfume\n",
    "import re"
   ]
  },
  {
   "cell_type": "code",
   "execution_count": 16,
   "metadata": {},
   "outputs": [],
   "source": [
    "all_statements = pyrfume.load_data('pubchem_scrape_100000.pkl')"
   ]
  },
  {
   "cell_type": "code",
   "execution_count": 11,
   "metadata": {},
   "outputs": [],
   "source": [
    "import json\n",
    "with open('pubchem_100000.json', 'w') as f:\n",
    "    json.dump(all_statements, f)"
   ]
  },
  {
   "cell_type": "code",
   "execution_count": 40,
   "metadata": {},
   "outputs": [],
   "source": [
    "df = pd.DataFrame(index=sorted(all_statements),\n",
    "                  columns=['Odor', 'Odorless', 'Statements'])\n",
    "df.index.name = 'CID'\n",
    "for cid in sorted(all_statements):\n",
    "    statements = all_statements[cid]\n",
    "    odor = False\n",
    "    odorless = False\n",
    "    for statement in statements:\n",
    "        statement = statement.lower()\n",
    "        if re.findall('no odor', statement):\n",
    "            odorless = True\n",
    "        elif re.findall('no odour', statement):\n",
    "            odorless = True\n",
    "        elif re.findall('no smell', statement):\n",
    "            odorless = True\n",
    "        elif re.findall('no fragrance', statement):\n",
    "            odorless = True\n",
    "        elif re.findall('odorless', statement):\n",
    "            odorless = True\n",
    "        elif re.findall('odourless', statement):\n",
    "            odorless = True\n",
    "        elif re.findall('odoratus', statement):\n",
    "            pass\n",
    "        elif re.findall('sense of smell', statement):\n",
    "            odor = True\n",
    "        elif re.findall('odor', statement):\n",
    "            odor = True\n",
    "        elif re.findall('odour', statement):\n",
    "            odor = True\n",
    "        elif re.findall('smell', statement):\n",
    "            odor = True\n",
    "        elif re.findall('fragrance', statement):\n",
    "            odor = True\n",
    "        elif re.findall('aroma ', statement):\n",
    "            odor = True\n",
    "        else:\n",
    "            pass\n",
    "    if odor and odorless:\n",
    "        pass#print(statements)\n",
    "    df.loc[cid, :] = [odor, odorless, statements]"
   ]
  },
  {
   "cell_type": "code",
   "execution_count": 41,
   "metadata": {},
   "outputs": [
    {
     "data": {
      "text/html": [
       "<div>\n",
       "<style scoped>\n",
       "    .dataframe tbody tr th:only-of-type {\n",
       "        vertical-align: middle;\n",
       "    }\n",
       "\n",
       "    .dataframe tbody tr th {\n",
       "        vertical-align: top;\n",
       "    }\n",
       "\n",
       "    .dataframe thead th {\n",
       "        text-align: right;\n",
       "    }\n",
       "</style>\n",
       "<table border=\"1\" class=\"dataframe\">\n",
       "  <thead>\n",
       "    <tr style=\"text-align: right;\">\n",
       "      <th></th>\n",
       "      <th>Odor</th>\n",
       "      <th>Odorless</th>\n",
       "      <th>Statements</th>\n",
       "    </tr>\n",
       "    <tr>\n",
       "      <th>CID</th>\n",
       "      <th></th>\n",
       "      <th></th>\n",
       "      <th></th>\n",
       "    </tr>\n",
       "  </thead>\n",
       "  <tbody>\n",
       "    <tr>\n",
       "      <td>4</td>\n",
       "      <td>True</td>\n",
       "      <td>False</td>\n",
       "      <td>[Monoisopropanolamine appears as a colorless l...</td>\n",
       "    </tr>\n",
       "    <tr>\n",
       "      <td>6</td>\n",
       "      <td>True</td>\n",
       "      <td>False</td>\n",
       "      <td>[1-chloro-2,4-dinitrobenzene appears as pale y...</td>\n",
       "    </tr>\n",
       "    <tr>\n",
       "      <td>11</td>\n",
       "      <td>True</td>\n",
       "      <td>False</td>\n",
       "      <td>[Ethylene dichloride appears as a clear colorl...</td>\n",
       "    </tr>\n",
       "    <tr>\n",
       "      <td>13</td>\n",
       "      <td>True</td>\n",
       "      <td>False</td>\n",
       "      <td>[1,2,4-trichlorobenzene appears as colorless l...</td>\n",
       "    </tr>\n",
       "    <tr>\n",
       "      <td>33</td>\n",
       "      <td>True</td>\n",
       "      <td>False</td>\n",
       "      <td>[2-chloroethanal appears as a clear colorless ...</td>\n",
       "    </tr>\n",
       "  </tbody>\n",
       "</table>\n",
       "</div>"
      ],
      "text/plain": [
       "     Odor Odorless                                         Statements\n",
       "CID                                                                  \n",
       "4    True    False  [Monoisopropanolamine appears as a colorless l...\n",
       "6    True    False  [1-chloro-2,4-dinitrobenzene appears as pale y...\n",
       "11   True    False  [Ethylene dichloride appears as a clear colorl...\n",
       "13   True    False  [1,2,4-trichlorobenzene appears as colorless l...\n",
       "33   True    False  [2-chloroethanal appears as a clear colorless ..."
      ]
     },
     "execution_count": 41,
     "metadata": {},
     "output_type": "execute_result"
    }
   ],
   "source": [
    "df.head()"
   ]
  },
  {
   "cell_type": "code",
   "execution_count": 42,
   "metadata": {},
   "outputs": [],
   "source": [
    "pyrfume.save_data(df, 'pubchem_scrape_100000.csv')"
   ]
  }
 ],
 "metadata": {
  "kernelspec": {
   "display_name": "Python 3",
   "language": "python",
   "name": "python3"
  },
  "language_info": {
   "codemirror_mode": {
    "name": "ipython",
    "version": 3
   },
   "file_extension": ".py",
   "mimetype": "text/x-python",
   "name": "python",
   "nbconvert_exporter": "python",
   "pygments_lexer": "ipython3",
   "version": "3.8.3"
  }
 },
 "nbformat": 4,
 "nbformat_minor": 4
}
