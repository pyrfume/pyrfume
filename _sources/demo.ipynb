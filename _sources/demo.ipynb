{
 "cells": [
  {
   "cell_type": "markdown",
   "metadata": {},
   "source": [
    "# *Pyrfume* Demo"
   ]
  },
  {
   "cell_type": "code",
   "execution_count": 1,
   "metadata": {},
   "outputs": [],
   "source": [
    "!pip install -q pyrfume  # Install pyrfume if it is not already installed"
   ]
  },
  {
   "cell_type": "code",
   "execution_count": 1,
   "metadata": {},
   "outputs": [],
   "source": [
    "%load_ext autoreload\n",
    "%autoreload 2\n",
    "import pandas as pd\n",
    "import pyrfume\n",
    "import seaborn as sns\n",
    "sns.set(font_scale=1.5)\n",
    "sns.set_style('whitegrid')"
   ]
  },
  {
   "cell_type": "code",
   "execution_count": null,
   "metadata": {},
   "outputs": [],
   "source": [
    "1+2"
   ]
  },
  {
   "cell_type": "markdown",
   "metadata": {},
   "source": [
    "## Part 1: Standardizing your own data\n",
    "You may already have your own data, and you would like to link the odorants you've used in one dataset with those from other datasets, or simply be able to do analyses that require your odorants to be well-descibed of featurized."
   ]
  },
  {
   "cell_type": "markdown",
   "metadata": {},
   "source": [
    "*Pyrfume* operates under the principle that the proper identifier for a single odorant molecule (e.g. d-Limonene) is the PubChem compound ID ([440917](https://pubchem.ncbi.nlm.nih.gov/compound/440917)), for a single (known) mixture (e.g. light mineral oil) is the PubChem substance ID ([402315722](https://pubchem.ncbi.nlm.nih.gov/substance/402315722)).\n",
    "- A PubChem compound ID uniquely identifiers a molecular structure (unlike a CAS registry number).\n",
    "- A given structure resolves to only one PubChem ID (unlike a SMILES string which depends on implementation).\n",
    "- [PubChem](https://pubchem.ncbi.nlm.nih.gov/) itself is indexed by these IDs and provides a wealth of additional records covering experimental data, computable properties, safety information, and other externally linked data.\n",
    "\n",
    "In order to get access to all of this information, and to link the *same molecule* across datasets, the first step is to obtain PubChem IDs (henceforth, CIDs) for the molecules in question."
   ]
  },
  {
   "cell_type": "code",
   "execution_count": 3,
   "metadata": {},
   "outputs": [],
   "source": [
    "names = ['d-limonene', '98-86-2', '(+)-carvone', 'CCCCCC=O', 'GXANMBISFKBPEX-ARJAWSKDSA-N']"
   ]
  },
  {
   "cell_type": "markdown",
   "metadata": {},
   "source": [
    "Above we have 5 different molecules, represented with a mix of names (with different annotations), CAS numbers, SMILES strings, and InChiKeys.  Your data may use one of these formats, or a mix of them, or some other format entirely.  The [PubChem exchange identifier](https://pubchem.ncbi.nlm.nih.gov/idexchange/idexchange.cgi) service can do a good job of converting between (some of) these format, or identifying potential CIDs.  Pyrfume does the extra work of auto-identifying the current identifier, checking for alternative conversions, and providing information about names that did not match or had multiple matches."
   ]
  },
  {
   "cell_type": "code",
   "execution_count": 5,
   "metadata": {},
   "outputs": [
    {
     "data": {
      "application/vnd.jupyter.widget-view+json": {
       "model_id": "0839649a1b8e4b3ba80d02bde8566a1e",
       "version_major": 2,
       "version_minor": 0
      },
      "text/plain": [
       "  0%|          | 0/5 [00:00<?, ?it/s]"
      ]
     },
     "metadata": {},
     "output_type": "display_data"
    }
   ],
   "source": [
    "from pyrfume import get_cids\n",
    "cids = get_cids(names)"
   ]
  },
  {
   "cell_type": "markdown",
   "metadata": {},
   "source": [
    "The process above can be a little bit slow (resolving only a few identifers per second) because the PubChem database itself is not indexed by most of these (only CIDs and InChiKeys).  Still, it returns a dictionary of unique identifiers (CIDs) for each original identifier:"
   ]
  },
  {
   "cell_type": "code",
   "execution_count": 7,
   "metadata": {},
   "outputs": [
    {
     "data": {
      "text/plain": [
       "{'d-limonene': 440917,\n",
       " '98-86-2': 7410,\n",
       " '(+)-carvone': 16724,\n",
       " 'CCCCCC=O': 6184,\n",
       " 'GXANMBISFKBPEX-ARJAWSKDSA-N': 643941}"
      ]
     },
     "execution_count": 7,
     "metadata": {},
     "output_type": "execute_result"
    }
   ],
   "source": [
    "cids"
   ]
  },
  {
   "cell_type": "markdown",
   "metadata": {},
   "source": [
    "Which looks a bit nicer as a Pandas series"
   ]
  },
  {
   "cell_type": "code",
   "execution_count": 10,
   "metadata": {},
   "outputs": [
    {
     "data": {
      "text/plain": [
       "d-limonene                     440917\n",
       "98-86-2                          7410\n",
       "(+)-carvone                     16724\n",
       "CCCCCC=O                         6184\n",
       "GXANMBISFKBPEX-ARJAWSKDSA-N    643941\n",
       "dtype: int64"
      ]
     },
     "execution_count": 10,
     "metadata": {},
     "output_type": "execute_result"
    }
   ],
   "source": [
    "cids = pd.Series(cids)\n",
    "cids"
   ]
  },
  {
   "cell_type": "markdown",
   "metadata": {},
   "source": [
    "Now that you have unique identifiers, you can access a lot more information:"
   ]
  },
  {
   "cell_type": "code",
   "execution_count": 18,
   "metadata": {},
   "outputs": [
    {
     "data": {
      "application/vnd.jupyter.widget-view+json": {
       "model_id": "1c18e35fa25b46a28142789722d18b13",
       "version_major": 2,
       "version_minor": 0
      },
      "text/plain": [
       "  0%|          | 0/1 [00:00<?, ?it/s]"
      ]
     },
     "metadata": {},
     "output_type": "display_data"
    },
    {
     "name": "stdout",
     "output_type": "stream",
     "text": [
      "Retrieving 0 through 4\n"
     ]
    }
   ],
   "source": [
    "from pyrfume import from_cids\n",
    "info = from_cids(cids.values)"
   ]
  },
  {
   "cell_type": "markdown",
   "metadata": {},
   "source": [
    "That part was quite fast and scales very well, because PubChem is indexed by CID.  Pyrfume runs this in batches of 100 CIDs, and each batch takes about 1 second."
   ]
  },
  {
   "cell_type": "code",
   "execution_count": 19,
   "metadata": {},
   "outputs": [
    {
     "data": {
      "text/html": [
       "<div>\n",
       "<style scoped>\n",
       "    .dataframe tbody tr th:only-of-type {\n",
       "        vertical-align: middle;\n",
       "    }\n",
       "\n",
       "    .dataframe tbody tr th {\n",
       "        vertical-align: top;\n",
       "    }\n",
       "\n",
       "    .dataframe thead th {\n",
       "        text-align: right;\n",
       "    }\n",
       "</style>\n",
       "<table border=\"1\" class=\"dataframe\">\n",
       "  <thead>\n",
       "    <tr style=\"text-align: right;\">\n",
       "      <th></th>\n",
       "      <th>MolecularWeight</th>\n",
       "      <th>IsomericSMILES</th>\n",
       "      <th>IUPACName</th>\n",
       "      <th>name</th>\n",
       "    </tr>\n",
       "    <tr>\n",
       "      <th>CID</th>\n",
       "      <th></th>\n",
       "      <th></th>\n",
       "      <th></th>\n",
       "      <th></th>\n",
       "    </tr>\n",
       "  </thead>\n",
       "  <tbody>\n",
       "    <tr>\n",
       "      <th>440917</th>\n",
       "      <td>136.23</td>\n",
       "      <td>CC1=CC[C@@H](CC1)C(=C)C</td>\n",
       "      <td>(4R)-1-methyl-4-prop-1-en-2-ylcyclohexene</td>\n",
       "      <td>d-limonene</td>\n",
       "    </tr>\n",
       "    <tr>\n",
       "      <th>7410</th>\n",
       "      <td>120.15</td>\n",
       "      <td>CC(=O)C1=CC=CC=C1</td>\n",
       "      <td>1-phenylethanone</td>\n",
       "      <td>acetophenone</td>\n",
       "    </tr>\n",
       "    <tr>\n",
       "      <th>16724</th>\n",
       "      <td>150.22</td>\n",
       "      <td>CC1=CC[C@@H](CC1=O)C(=C)C</td>\n",
       "      <td>(5S)-2-methyl-5-prop-1-en-2-ylcyclohex-2-en-1-one</td>\n",
       "      <td>d-carvone</td>\n",
       "    </tr>\n",
       "    <tr>\n",
       "      <th>6184</th>\n",
       "      <td>100.16</td>\n",
       "      <td>CCCCCC=O</td>\n",
       "      <td>hexanal</td>\n",
       "      <td>hexanal</td>\n",
       "    </tr>\n",
       "    <tr>\n",
       "      <th>643941</th>\n",
       "      <td>98.14</td>\n",
       "      <td>CC/C=C\\CC=O</td>\n",
       "      <td>(Z)-hex-3-enal</td>\n",
       "      <td>cis-3-hexenal</td>\n",
       "    </tr>\n",
       "  </tbody>\n",
       "</table>\n",
       "</div>"
      ],
      "text/plain": [
       "       MolecularWeight             IsomericSMILES  \\\n",
       "CID                                                 \n",
       "440917          136.23    CC1=CC[C@@H](CC1)C(=C)C   \n",
       "7410            120.15          CC(=O)C1=CC=CC=C1   \n",
       "16724           150.22  CC1=CC[C@@H](CC1=O)C(=C)C   \n",
       "6184            100.16                   CCCCCC=O   \n",
       "643941           98.14                CC/C=C\\CC=O   \n",
       "\n",
       "                                                IUPACName           name  \n",
       "CID                                                                       \n",
       "440917          (4R)-1-methyl-4-prop-1-en-2-ylcyclohexene     d-limonene  \n",
       "7410                                     1-phenylethanone   acetophenone  \n",
       "16724   (5S)-2-methyl-5-prop-1-en-2-ylcyclohex-2-en-1-one      d-carvone  \n",
       "6184                                              hexanal        hexanal  \n",
       "643941                                     (Z)-hex-3-enal  cis-3-hexenal  "
      ]
     },
     "execution_count": 19,
     "metadata": {},
     "output_type": "execute_result"
    }
   ],
   "source": [
    "molecules = pd.DataFrame(info).set_index('CID')\n",
    "molecules"
   ]
  },
  {
   "cell_type": "markdown",
   "metadata": {},
   "source": [
    "The above contains the original set of molecules, indexed by CID, but also containing some other useful identifiers that (unlike CAS or InChiKey) actually tell you something about the molecule in question just by looking at them.  The \"IsomericSMILES\" columns is standardized SMILES string computed using the same software (on PubChem) for every molecule.  The \"[IUPACName](https://en.wikipedia.org/wiki/IUPAC_nomenclature_of_organic_chemistry)\" is similarly, a standardized nomenclature for molecle names.  \"name\" is simply the most common name (sometimes a trade name) of the molecule, as you might see it in a publication.  CID, IsomericSMILES, and IUPACName, all uniquely describe the molecule.  If you have multiple datasets from multiple sources, and you want to integrate them together, you can use stock Pandas functions for merging and/or concatenating data. \n",
    "\n",
    "This representation for a set of molecules will recur again and again in Part 4, when looking at external datasets."
   ]
  },
  {
   "cell_type": "markdown",
   "metadata": {},
   "source": [
    "## Part 2: Featurization for machine learning"
   ]
  },
  {
   "cell_type": "markdown",
   "metadata": {},
   "source": [
    "Many applications, such as predictive models, propose that molecular structure of an odorant is causal to neural activity or behavior (a reasonable proposition).  Training these models requires that each molecule be represented by a vector of predictors, or features, which in some way describe the structure quantitatively.  Traditionally the chemoinformatic feature-calculation software called [Dragon](https://chm.kode-solutions.net/pf/dragon-7-0/) has been used for this, but since Dragon is commercial software this creates challenges for replication and reproducibility.  Some have found that open source feature-calculation packages such as [Mordred](https://jcheminf.biomedcentral.com/articles/10.1186/s13321-018-0258-y) perform as or nearly as well.  \n",
    "\n",
    "Feature-calculation on molecules involves several steps including 1) expression of structure in a standard representation (such as SMILES or InChi), 2) conversion of that structure to a molecule object in memory (e.g. [rdkit](https://www.rdkit.org/) Mol), 3) addition of hydrogens (omitted from the SMILES by design), removal of salts, etc. 4) embedding in 3 dimensions (without violating steric or electostatic principles), 5) feature calculation on this 3d structure.  *Pyrfume* abstracts all of this away into one step."
   ]
  },
  {
   "cell_type": "code",
   "execution_count": 37,
   "metadata": {},
   "outputs": [
    {
     "data": {
      "text/plain": [
       "['CC1=CC[C@@H](CC1)C(=C)C',\n",
       " 'CC(=O)C1=CC=CC=C1',\n",
       " 'CC1=CC[C@@H](CC1=O)C(=C)C',\n",
       " 'CCCCCC=O',\n",
       " 'CC/C=C\\\\CC=O']"
      ]
     },
     "execution_count": 37,
     "metadata": {},
     "output_type": "execute_result"
    }
   ],
   "source": [
    "smiles = molecules['IsomericSMILES'].tolist()\n",
    "smiles"
   ]
  },
  {
   "cell_type": "code",
   "execution_count": 28,
   "metadata": {},
   "outputs": [
    {
     "data": {
      "application/vnd.jupyter.widget-view+json": {
       "model_id": "3f3a57047ada41f0a008d04ac7eab63d",
       "version_major": 2,
       "version_minor": 0
      },
      "text/plain": [
       "  0%|          | 0/5 [00:00<?, ?it/s]"
      ]
     },
     "metadata": {},
     "output_type": "display_data"
    },
    {
     "name": "stdout",
     "output_type": "stream",
     "text": [
      "\n",
      "Computing Mordred features...\n"
     ]
    },
    {
     "name": "stderr",
     "output_type": "stream",
     "text": [
      "\n",
      "\n",
      "  0%|          | 0/5 [00:00<?, ?it/s]\u001b[A\u001b[A\n",
      "\n",
      "100%|██████████| 5/5 [00:00<00:00,  9.81it/s]\u001b[A\u001b[A\n"
     ]
    },
    {
     "name": "stdout",
     "output_type": "stream",
     "text": [
      "There are 5 molecules and 1826 features\n"
     ]
    }
   ],
   "source": [
    "from pyrfume.features import smiles_to_mordred\n",
    "mordred_features = smiles_to_mordred(smiles)"
   ]
  },
  {
   "cell_type": "markdown",
   "metadata": {},
   "source": [
    "The code above implements all of the steps required for featurization (except for obtaining the SMILES string, which was done in Part 1).  One can also obtain a SMILES string directly by calling `pyrfume.odorants.cids_to_smiles`."
   ]
  },
  {
   "cell_type": "code",
   "execution_count": 29,
   "metadata": {},
   "outputs": [
    {
     "data": {
      "text/html": [
       "<div>\n",
       "<style scoped>\n",
       "    .dataframe tbody tr th:only-of-type {\n",
       "        vertical-align: middle;\n",
       "    }\n",
       "\n",
       "    .dataframe tbody tr th {\n",
       "        vertical-align: top;\n",
       "    }\n",
       "\n",
       "    .dataframe thead th {\n",
       "        text-align: right;\n",
       "    }\n",
       "</style>\n",
       "<table border=\"1\" class=\"dataframe\">\n",
       "  <thead>\n",
       "    <tr style=\"text-align: right;\">\n",
       "      <th></th>\n",
       "      <th>ABC</th>\n",
       "      <th>ABCGG</th>\n",
       "      <th>nAcid</th>\n",
       "      <th>nBase</th>\n",
       "      <th>SpAbs_A</th>\n",
       "      <th>SpMax_A</th>\n",
       "      <th>SpDiam_A</th>\n",
       "      <th>SpAD_A</th>\n",
       "      <th>SpMAD_A</th>\n",
       "      <th>LogEE_A</th>\n",
       "      <th>...</th>\n",
       "      <th>SRW10</th>\n",
       "      <th>TSRW10</th>\n",
       "      <th>MW</th>\n",
       "      <th>AMW</th>\n",
       "      <th>WPath</th>\n",
       "      <th>WPol</th>\n",
       "      <th>Zagreb1</th>\n",
       "      <th>Zagreb2</th>\n",
       "      <th>mZagreb1</th>\n",
       "      <th>mZagreb2</th>\n",
       "    </tr>\n",
       "  </thead>\n",
       "  <tbody>\n",
       "    <tr>\n",
       "      <th>CC1=CC[C@@H](CC1)C(=C)C</th>\n",
       "      <td>7.358797</td>\n",
       "      <td>6.909742</td>\n",
       "      <td>0</td>\n",
       "      <td>0</td>\n",
       "      <td>11.936238</td>\n",
       "      <td>2.236068</td>\n",
       "      <td>4.472136</td>\n",
       "      <td>11.936238</td>\n",
       "      <td>1.193624</td>\n",
       "      <td>3.197236</td>\n",
       "      <td>...</td>\n",
       "      <td>8.815964</td>\n",
       "      <td>39.140584</td>\n",
       "      <td>136.125201</td>\n",
       "      <td>5.235585</td>\n",
       "      <td>120</td>\n",
       "      <td>11</td>\n",
       "      <td>46.0</td>\n",
       "      <td>50.0</td>\n",
       "      <td>4.333333</td>\n",
       "      <td>2.277778</td>\n",
       "    </tr>\n",
       "    <tr>\n",
       "      <th>CC(=O)C1=CC=CC=C1</th>\n",
       "      <td>6.542301</td>\n",
       "      <td>6.236096</td>\n",
       "      <td>0</td>\n",
       "      <td>0</td>\n",
       "      <td>11.189957</td>\n",
       "      <td>2.193993</td>\n",
       "      <td>4.387987</td>\n",
       "      <td>11.189957</td>\n",
       "      <td>1.243329</td>\n",
       "      <td>3.089765</td>\n",
       "      <td>...</td>\n",
       "      <td>8.590258</td>\n",
       "      <td>37.289972</td>\n",
       "      <td>120.057515</td>\n",
       "      <td>7.062207</td>\n",
       "      <td>88</td>\n",
       "      <td>9</td>\n",
       "      <td>40.0</td>\n",
       "      <td>43.0</td>\n",
       "      <td>3.472222</td>\n",
       "      <td>2.111111</td>\n",
       "    </tr>\n",
       "    <tr>\n",
       "      <th>CC1=CC[C@@H](CC1=O)C(=C)C</th>\n",
       "      <td>8.134854</td>\n",
       "      <td>7.731889</td>\n",
       "      <td>0</td>\n",
       "      <td>0</td>\n",
       "      <td>13.152542</td>\n",
       "      <td>2.292456</td>\n",
       "      <td>4.584911</td>\n",
       "      <td>13.152542</td>\n",
       "      <td>1.195686</td>\n",
       "      <td>3.294652</td>\n",
       "      <td>...</td>\n",
       "      <td>9.071423</td>\n",
       "      <td>40.991311</td>\n",
       "      <td>150.104465</td>\n",
       "      <td>6.004179</td>\n",
       "      <td>152</td>\n",
       "      <td>14</td>\n",
       "      <td>52.0</td>\n",
       "      <td>58.0</td>\n",
       "      <td>5.194444</td>\n",
       "      <td>2.472222</td>\n",
       "    </tr>\n",
       "    <tr>\n",
       "      <th>CCCCCC=O</th>\n",
       "      <td>4.242641</td>\n",
       "      <td>4.53095</td>\n",
       "      <td>0</td>\n",
       "      <td>0</td>\n",
       "      <td>8.054679</td>\n",
       "      <td>1.847759</td>\n",
       "      <td>3.695518</td>\n",
       "      <td>8.054679</td>\n",
       "      <td>1.150668</td>\n",
       "      <td>2.739193</td>\n",
       "      <td>...</td>\n",
       "      <td>6.900731</td>\n",
       "      <td>30.25721</td>\n",
       "      <td>100.088815</td>\n",
       "      <td>5.267832</td>\n",
       "      <td>56</td>\n",
       "      <td>4</td>\n",
       "      <td>22.0</td>\n",
       "      <td>20.0</td>\n",
       "      <td>3.25</td>\n",
       "      <td>2.0</td>\n",
       "    </tr>\n",
       "    <tr>\n",
       "      <th>CC/C=C\\CC=O</th>\n",
       "      <td>4.242641</td>\n",
       "      <td>4.53095</td>\n",
       "      <td>0</td>\n",
       "      <td>0</td>\n",
       "      <td>8.054679</td>\n",
       "      <td>1.847759</td>\n",
       "      <td>3.695518</td>\n",
       "      <td>8.054679</td>\n",
       "      <td>1.150668</td>\n",
       "      <td>2.739193</td>\n",
       "      <td>...</td>\n",
       "      <td>6.900731</td>\n",
       "      <td>30.25721</td>\n",
       "      <td>98.073165</td>\n",
       "      <td>5.76901</td>\n",
       "      <td>56</td>\n",
       "      <td>4</td>\n",
       "      <td>22.0</td>\n",
       "      <td>20.0</td>\n",
       "      <td>3.25</td>\n",
       "      <td>2.0</td>\n",
       "    </tr>\n",
       "  </tbody>\n",
       "</table>\n",
       "<p>5 rows × 1826 columns</p>\n",
       "</div>"
      ],
      "text/plain": [
       "                                ABC     ABCGG nAcid nBase    SpAbs_A  \\\n",
       "CC1=CC[C@@H](CC1)C(=C)C    7.358797  6.909742     0     0  11.936238   \n",
       "CC(=O)C1=CC=CC=C1          6.542301  6.236096     0     0  11.189957   \n",
       "CC1=CC[C@@H](CC1=O)C(=C)C  8.134854  7.731889     0     0  13.152542   \n",
       "CCCCCC=O                   4.242641   4.53095     0     0   8.054679   \n",
       "CC/C=C\\CC=O                4.242641   4.53095     0     0   8.054679   \n",
       "\n",
       "                            SpMax_A  SpDiam_A     SpAD_A   SpMAD_A   LogEE_A  \\\n",
       "CC1=CC[C@@H](CC1)C(=C)C    2.236068  4.472136  11.936238  1.193624  3.197236   \n",
       "CC(=O)C1=CC=CC=C1          2.193993  4.387987  11.189957  1.243329  3.089765   \n",
       "CC1=CC[C@@H](CC1=O)C(=C)C  2.292456  4.584911  13.152542  1.195686  3.294652   \n",
       "CCCCCC=O                   1.847759  3.695518   8.054679  1.150668  2.739193   \n",
       "CC/C=C\\CC=O                1.847759  3.695518   8.054679  1.150668  2.739193   \n",
       "\n",
       "                           ...     SRW10     TSRW10          MW       AMW  \\\n",
       "CC1=CC[C@@H](CC1)C(=C)C    ...  8.815964  39.140584  136.125201  5.235585   \n",
       "CC(=O)C1=CC=CC=C1          ...  8.590258  37.289972  120.057515  7.062207   \n",
       "CC1=CC[C@@H](CC1=O)C(=C)C  ...  9.071423  40.991311  150.104465  6.004179   \n",
       "CCCCCC=O                   ...  6.900731   30.25721  100.088815  5.267832   \n",
       "CC/C=C\\CC=O                ...  6.900731   30.25721   98.073165   5.76901   \n",
       "\n",
       "                          WPath WPol Zagreb1 Zagreb2  mZagreb1  mZagreb2  \n",
       "CC1=CC[C@@H](CC1)C(=C)C     120   11    46.0    50.0  4.333333  2.277778  \n",
       "CC(=O)C1=CC=CC=C1            88    9    40.0    43.0  3.472222  2.111111  \n",
       "CC1=CC[C@@H](CC1=O)C(=C)C   152   14    52.0    58.0  5.194444  2.472222  \n",
       "CCCCCC=O                     56    4    22.0    20.0      3.25       2.0  \n",
       "CC/C=C\\CC=O                  56    4    22.0    20.0      3.25       2.0  \n",
       "\n",
       "[5 rows x 1826 columns]"
      ]
     },
     "execution_count": 29,
     "metadata": {},
     "output_type": "execute_result"
    }
   ],
   "source": [
    "mordred_features"
   ]
  },
  {
   "cell_type": "markdown",
   "metadata": {},
   "source": [
    "The `mordred_features` Pandas dataframe has (for the current version of Mordred, installed by Pyrfume) 1826 computed physicochemical features for each molecule.  What do these features mean?  That's a question for the computational chemists.  As investigators asking how molecular structure might explain or be represented in brain activity or behavior, we just want a set of predictors with a track record of success in structure-based predictive models."
   ]
  },
  {
   "cell_type": "markdown",
   "metadata": {},
   "source": [
    "It has been shown previously that the physics-based features of Dragon (or of Mordred, which implements similar calculations) are good at predicting some kinds of structure-driven outcomes, but not others.  For example, in [Keller et al 2017 (Science)](https://science.sciencemag.org/content/355/6327/820.abstract) it was shown that such features are good for predicting perceived intensity, but not as good at predicting perceived \"bakery\" smell.  That paper showed that the latter was better predicted by a template-matching approach -- molecules that smell like \"bakery\" are best predicted by asking whether they are structurally similar to other molecules known to smell like \"bakery\".  "
   ]
  },
  {
   "cell_type": "code",
   "execution_count": 33,
   "metadata": {},
   "outputs": [
    {
     "data": {
      "application/vnd.jupyter.widget-view+json": {
       "model_id": "d7bdf551e94745d9a3f952bbcd73dfac",
       "version_major": 2,
       "version_minor": 0
      },
      "text/plain": [
       "  0%|          | 0/5 [00:00<?, ?it/s]"
      ]
     },
     "metadata": {},
     "output_type": "display_data"
    },
    {
     "data": {
      "application/vnd.jupyter.widget-view+json": {
       "model_id": "51e3d09416a949cdb96536a7bf7e6a4a",
       "version_major": 2,
       "version_minor": 0
      },
      "text/plain": [
       "Computing Morgan Fingerprints:   0%|          | 0/5 [00:00<?, ?it/s]"
      ]
     },
     "metadata": {},
     "output_type": "display_data"
    }
   ],
   "source": [
    "from pyrfume.features import smiles_to_morgan\n",
    "morgan_features = smiles_to_morgan(smiles)"
   ]
  },
  {
   "cell_type": "code",
   "execution_count": 34,
   "metadata": {},
   "outputs": [
    {
     "data": {
      "text/html": [
       "<div>\n",
       "<style scoped>\n",
       "    .dataframe tbody tr th:only-of-type {\n",
       "        vertical-align: middle;\n",
       "    }\n",
       "\n",
       "    .dataframe tbody tr th {\n",
       "        vertical-align: top;\n",
       "    }\n",
       "\n",
       "    .dataframe thead th {\n",
       "        text-align: right;\n",
       "    }\n",
       "</style>\n",
       "<table border=\"1\" class=\"dataframe\">\n",
       "  <thead>\n",
       "    <tr style=\"text-align: right;\">\n",
       "      <th></th>\n",
       "      <th>10565946</th>\n",
       "      <th>56091288</th>\n",
       "      <th>118067289</th>\n",
       "      <th>121328373</th>\n",
       "      <th>153234704</th>\n",
       "      <th>180311863</th>\n",
       "      <th>226893386</th>\n",
       "      <th>245578872</th>\n",
       "      <th>256538328</th>\n",
       "      <th>269476445</th>\n",
       "      <th>...</th>\n",
       "      <th>3910734833</th>\n",
       "      <th>3967719433</th>\n",
       "      <th>3983702751</th>\n",
       "      <th>3990544841</th>\n",
       "      <th>4056449865</th>\n",
       "      <th>4084831613</th>\n",
       "      <th>4166400509</th>\n",
       "      <th>4175270308</th>\n",
       "      <th>4209952873</th>\n",
       "      <th>4277593716</th>\n",
       "    </tr>\n",
       "  </thead>\n",
       "  <tbody>\n",
       "    <tr>\n",
       "      <th>CC1=CC[C@@H](CC1)C(=C)C</th>\n",
       "      <td>0.0</td>\n",
       "      <td>1.0</td>\n",
       "      <td>0.0</td>\n",
       "      <td>1.0</td>\n",
       "      <td>0.0</td>\n",
       "      <td>1.0</td>\n",
       "      <td>0.0</td>\n",
       "      <td>1.0</td>\n",
       "      <td>0.0</td>\n",
       "      <td>0.0</td>\n",
       "      <td>...</td>\n",
       "      <td>0.0</td>\n",
       "      <td>0.0</td>\n",
       "      <td>0.0</td>\n",
       "      <td>0.0</td>\n",
       "      <td>0.0</td>\n",
       "      <td>0.0</td>\n",
       "      <td>1.0</td>\n",
       "      <td>1.0</td>\n",
       "      <td>0.0</td>\n",
       "      <td>16.0</td>\n",
       "    </tr>\n",
       "    <tr>\n",
       "      <th>CC(=O)C1=CC=CC=C1</th>\n",
       "      <td>0.0</td>\n",
       "      <td>5.0</td>\n",
       "      <td>0.0</td>\n",
       "      <td>0.0</td>\n",
       "      <td>0.0</td>\n",
       "      <td>0.0</td>\n",
       "      <td>2.0</td>\n",
       "      <td>0.0</td>\n",
       "      <td>0.0</td>\n",
       "      <td>0.0</td>\n",
       "      <td>...</td>\n",
       "      <td>0.0</td>\n",
       "      <td>1.0</td>\n",
       "      <td>0.0</td>\n",
       "      <td>0.0</td>\n",
       "      <td>0.0</td>\n",
       "      <td>0.0</td>\n",
       "      <td>0.0</td>\n",
       "      <td>0.0</td>\n",
       "      <td>0.0</td>\n",
       "      <td>8.0</td>\n",
       "    </tr>\n",
       "    <tr>\n",
       "      <th>CC1=CC[C@@H](CC1=O)C(=C)C</th>\n",
       "      <td>1.0</td>\n",
       "      <td>1.0</td>\n",
       "      <td>1.0</td>\n",
       "      <td>1.0</td>\n",
       "      <td>1.0</td>\n",
       "      <td>0.0</td>\n",
       "      <td>0.0</td>\n",
       "      <td>0.0</td>\n",
       "      <td>1.0</td>\n",
       "      <td>1.0</td>\n",
       "      <td>...</td>\n",
       "      <td>1.0</td>\n",
       "      <td>0.0</td>\n",
       "      <td>0.0</td>\n",
       "      <td>1.0</td>\n",
       "      <td>1.0</td>\n",
       "      <td>0.0</td>\n",
       "      <td>0.0</td>\n",
       "      <td>0.0</td>\n",
       "      <td>0.0</td>\n",
       "      <td>14.0</td>\n",
       "    </tr>\n",
       "    <tr>\n",
       "      <th>CCCCCC=O</th>\n",
       "      <td>0.0</td>\n",
       "      <td>0.0</td>\n",
       "      <td>0.0</td>\n",
       "      <td>0.0</td>\n",
       "      <td>0.0</td>\n",
       "      <td>0.0</td>\n",
       "      <td>0.0</td>\n",
       "      <td>0.0</td>\n",
       "      <td>0.0</td>\n",
       "      <td>0.0</td>\n",
       "      <td>...</td>\n",
       "      <td>0.0</td>\n",
       "      <td>0.0</td>\n",
       "      <td>0.0</td>\n",
       "      <td>0.0</td>\n",
       "      <td>0.0</td>\n",
       "      <td>1.0</td>\n",
       "      <td>0.0</td>\n",
       "      <td>0.0</td>\n",
       "      <td>1.0</td>\n",
       "      <td>12.0</td>\n",
       "    </tr>\n",
       "    <tr>\n",
       "      <th>CC/C=C\\CC=O</th>\n",
       "      <td>0.0</td>\n",
       "      <td>0.0</td>\n",
       "      <td>0.0</td>\n",
       "      <td>0.0</td>\n",
       "      <td>0.0</td>\n",
       "      <td>0.0</td>\n",
       "      <td>0.0</td>\n",
       "      <td>0.0</td>\n",
       "      <td>0.0</td>\n",
       "      <td>0.0</td>\n",
       "      <td>...</td>\n",
       "      <td>0.0</td>\n",
       "      <td>0.0</td>\n",
       "      <td>1.0</td>\n",
       "      <td>0.0</td>\n",
       "      <td>0.0</td>\n",
       "      <td>0.0</td>\n",
       "      <td>0.0</td>\n",
       "      <td>0.0</td>\n",
       "      <td>0.0</td>\n",
       "      <td>10.0</td>\n",
       "    </tr>\n",
       "  </tbody>\n",
       "</table>\n",
       "<p>5 rows × 105 columns</p>\n",
       "</div>"
      ],
      "text/plain": [
       "                           10565946    56091288    118067289   121328373   \\\n",
       "CC1=CC[C@@H](CC1)C(=C)C           0.0         1.0         0.0         1.0   \n",
       "CC(=O)C1=CC=CC=C1                 0.0         5.0         0.0         0.0   \n",
       "CC1=CC[C@@H](CC1=O)C(=C)C         1.0         1.0         1.0         1.0   \n",
       "CCCCCC=O                          0.0         0.0         0.0         0.0   \n",
       "CC/C=C\\CC=O                       0.0         0.0         0.0         0.0   \n",
       "\n",
       "                           153234704   180311863   226893386   245578872   \\\n",
       "CC1=CC[C@@H](CC1)C(=C)C           0.0         1.0         0.0         1.0   \n",
       "CC(=O)C1=CC=CC=C1                 0.0         0.0         2.0         0.0   \n",
       "CC1=CC[C@@H](CC1=O)C(=C)C         1.0         0.0         0.0         0.0   \n",
       "CCCCCC=O                          0.0         0.0         0.0         0.0   \n",
       "CC/C=C\\CC=O                       0.0         0.0         0.0         0.0   \n",
       "\n",
       "                           256538328   269476445   ...  3910734833  \\\n",
       "CC1=CC[C@@H](CC1)C(=C)C           0.0         0.0  ...         0.0   \n",
       "CC(=O)C1=CC=CC=C1                 0.0         0.0  ...         0.0   \n",
       "CC1=CC[C@@H](CC1=O)C(=C)C         1.0         1.0  ...         1.0   \n",
       "CCCCCC=O                          0.0         0.0  ...         0.0   \n",
       "CC/C=C\\CC=O                       0.0         0.0  ...         0.0   \n",
       "\n",
       "                           3967719433  3983702751  3990544841  4056449865  \\\n",
       "CC1=CC[C@@H](CC1)C(=C)C           0.0         0.0         0.0         0.0   \n",
       "CC(=O)C1=CC=CC=C1                 1.0         0.0         0.0         0.0   \n",
       "CC1=CC[C@@H](CC1=O)C(=C)C         0.0         0.0         1.0         1.0   \n",
       "CCCCCC=O                          0.0         0.0         0.0         0.0   \n",
       "CC/C=C\\CC=O                       0.0         1.0         0.0         0.0   \n",
       "\n",
       "                           4084831613  4166400509  4175270308  4209952873  \\\n",
       "CC1=CC[C@@H](CC1)C(=C)C           0.0         1.0         1.0         0.0   \n",
       "CC(=O)C1=CC=CC=C1                 0.0         0.0         0.0         0.0   \n",
       "CC1=CC[C@@H](CC1=O)C(=C)C         0.0         0.0         0.0         0.0   \n",
       "CCCCCC=O                          1.0         0.0         0.0         1.0   \n",
       "CC/C=C\\CC=O                       0.0         0.0         0.0         0.0   \n",
       "\n",
       "                           4277593716  \n",
       "CC1=CC[C@@H](CC1)C(=C)C          16.0  \n",
       "CC(=O)C1=CC=CC=C1                 8.0  \n",
       "CC1=CC[C@@H](CC1=O)C(=C)C        14.0  \n",
       "CCCCCC=O                         12.0  \n",
       "CC/C=C\\CC=O                      10.0  \n",
       "\n",
       "[5 rows x 105 columns]"
      ]
     },
     "execution_count": 34,
     "metadata": {},
     "output_type": "execute_result"
    }
   ],
   "source": [
    "morgan_features"
   ]
  },
  {
   "cell_type": "markdown",
   "metadata": {},
   "source": [
    "The dataframe above contains fragment counts, i.e. the number of times, within each molecule (represented by a SMILES string) that a given sub-molecular pattern (e.g. an acetyl group, a benzene ring, or any other possible substructure) occurs.  Each substructure has a unique \"hash\", which is simply a long integer that can be resolved to that sub-structure (also called a [fingerprint](https://towardsdatascience.com/a-practical-introduction-to-the-use-of-molecular-fingerprints-in-drug-discovery-7f15021be2b1)).  The larger and more diverse the number of molecules that we want to featurize, the larger the number of potential substructures, so the number of predictors can become quite larger (here since we are only working with 5 molecules, there are only 105 unique substructures, of some maximum size).\n",
    "\n",
    "These features can be used directly, but they still don't tell us how similar two molecules are."
   ]
  },
  {
   "cell_type": "code",
   "execution_count": 39,
   "metadata": {},
   "outputs": [
    {
     "data": {
      "application/vnd.jupyter.widget-view+json": {
       "model_id": "5779e2682fdb47428dd979937b59faed",
       "version_major": 2,
       "version_minor": 0
      },
      "text/plain": [
       "  0%|          | 0/5 [00:00<?, ?it/s]"
      ]
     },
     "metadata": {},
     "output_type": "display_data"
    },
    {
     "data": {
      "application/vnd.jupyter.widget-view+json": {
       "model_id": "210036e0907f40449ddc6d5820938242",
       "version_major": 2,
       "version_minor": 0
      },
      "text/plain": [
       "  0%|          | 0/5 [00:00<?, ?it/s]"
      ]
     },
     "metadata": {},
     "output_type": "display_data"
    },
    {
     "data": {
      "application/vnd.jupyter.widget-view+json": {
       "model_id": "03b80ec6082f4e8fbccc5fef4960d6ab",
       "version_major": 2,
       "version_minor": 0
      },
      "text/plain": [
       "  0%|          | 0/5 [00:00<?, ?it/s]"
      ]
     },
     "metadata": {},
     "output_type": "display_data"
    }
   ],
   "source": [
    "from pyrfume.features import smiles_to_morgan_sim\n",
    "morgan_sim_features = smiles_to_morgan_sim(smiles, smiles)"
   ]
  },
  {
   "cell_type": "code",
   "execution_count": 40,
   "metadata": {},
   "outputs": [
    {
     "data": {
      "text/html": [
       "<div>\n",
       "<style scoped>\n",
       "    .dataframe tbody tr th:only-of-type {\n",
       "        vertical-align: middle;\n",
       "    }\n",
       "\n",
       "    .dataframe tbody tr th {\n",
       "        vertical-align: top;\n",
       "    }\n",
       "\n",
       "    .dataframe thead th {\n",
       "        text-align: right;\n",
       "    }\n",
       "</style>\n",
       "<table border=\"1\" class=\"dataframe\">\n",
       "  <thead>\n",
       "    <tr style=\"text-align: right;\">\n",
       "      <th></th>\n",
       "      <th>CC1=CC[C@@H](CC1)C(=C)C</th>\n",
       "      <th>CC(=O)C1=CC=CC=C1</th>\n",
       "      <th>CC1=CC[C@@H](CC1=O)C(=C)C</th>\n",
       "      <th>CCCCCC=O</th>\n",
       "      <th>CC/C=C\\CC=O</th>\n",
       "    </tr>\n",
       "  </thead>\n",
       "  <tbody>\n",
       "    <tr>\n",
       "      <th>CC1=CC[C@@H](CC1)C(=C)C</th>\n",
       "      <td>1.000000</td>\n",
       "      <td>0.272000</td>\n",
       "      <td>0.680556</td>\n",
       "      <td>0.360656</td>\n",
       "      <td>0.372881</td>\n",
       "    </tr>\n",
       "    <tr>\n",
       "      <th>CC(=O)C1=CC=CC=C1</th>\n",
       "      <td>0.272000</td>\n",
       "      <td>1.000000</td>\n",
       "      <td>0.308943</td>\n",
       "      <td>0.297030</td>\n",
       "      <td>0.309278</td>\n",
       "    </tr>\n",
       "    <tr>\n",
       "      <th>CC1=CC[C@@H](CC1=O)C(=C)C</th>\n",
       "      <td>0.680556</td>\n",
       "      <td>0.308943</td>\n",
       "      <td>1.000000</td>\n",
       "      <td>0.383333</td>\n",
       "      <td>0.396552</td>\n",
       "    </tr>\n",
       "    <tr>\n",
       "      <th>CCCCCC=O</th>\n",
       "      <td>0.360656</td>\n",
       "      <td>0.297030</td>\n",
       "      <td>0.383333</td>\n",
       "      <td>1.000000</td>\n",
       "      <td>0.574468</td>\n",
       "    </tr>\n",
       "    <tr>\n",
       "      <th>CC/C=C\\CC=O</th>\n",
       "      <td>0.372881</td>\n",
       "      <td>0.309278</td>\n",
       "      <td>0.396552</td>\n",
       "      <td>0.574468</td>\n",
       "      <td>1.000000</td>\n",
       "    </tr>\n",
       "  </tbody>\n",
       "</table>\n",
       "</div>"
      ],
      "text/plain": [
       "                           CC1=CC[C@@H](CC1)C(=C)C  CC(=O)C1=CC=CC=C1  \\\n",
       "CC1=CC[C@@H](CC1)C(=C)C                   1.000000           0.272000   \n",
       "CC(=O)C1=CC=CC=C1                         0.272000           1.000000   \n",
       "CC1=CC[C@@H](CC1=O)C(=C)C                 0.680556           0.308943   \n",
       "CCCCCC=O                                  0.360656           0.297030   \n",
       "CC/C=C\\CC=O                               0.372881           0.309278   \n",
       "\n",
       "                           CC1=CC[C@@H](CC1=O)C(=C)C  CCCCCC=O  CC/C=C\\CC=O  \n",
       "CC1=CC[C@@H](CC1)C(=C)C                     0.680556  0.360656     0.372881  \n",
       "CC(=O)C1=CC=CC=C1                           0.308943  0.297030     0.309278  \n",
       "CC1=CC[C@@H](CC1=O)C(=C)C                   1.000000  0.383333     0.396552  \n",
       "CCCCCC=O                                    0.383333  1.000000     0.574468  \n",
       "CC/C=C\\CC=O                                 0.396552  0.574468     1.000000  "
      ]
     },
     "execution_count": 40,
     "metadata": {},
     "output_type": "execute_result"
    }
   ],
   "source": [
    "morgan_sim_features"
   ]
  },
  {
   "cell_type": "markdown",
   "metadata": {},
   "source": [
    "By using `smiles_to_morgan_sim` we have the option of a second argument, which is a list of SMILES to compare the original SMILES to.  The result is a measure of similarity between two molecules, defined as their similarity in substructure counts.\n",
    "\n",
    "But rather than restrict the the similarity to only those molecules we want to predict, why not compute the similarity to other known odorous (or non-odorous) molecules?"
   ]
  },
  {
   "cell_type": "code",
   "execution_count": 47,
   "metadata": {},
   "outputs": [],
   "source": [
    "from pyrfume.odorants import all_smiles\n",
    "reference_smiles = all_smiles()\n",
    "#smiles_to_morgan_sim(smiles, reference_smiles)"
   ]
  },
  {
   "cell_type": "markdown",
   "metadata": {},
   "source": [
    "The code above (after uncommenting the last line) will compute a dataframe of similarities between your molecule of interest and several thousand known odorants curated through the Pyrfume project.  This list consists of odorants used in [>40 notable journal articles and industrial databases](http://status.pyrfume.org).  "
   ]
  },
  {
   "cell_type": "markdown",
   "metadata": {},
   "source": [
    "Because this list is so large, there is a good chance that all of the molecules you are using for your project are already in it.  This means that the feature values can be computed once and you can simply look them up.  These pre-computed values have already been filtred to remove non-informative (e.g. zero variance) features or features with a large fraction of missing values (some features, especially for Mordred, are only computable for esoteric molecules). Furthermore, the remaining missing values have been filled with [KNN imputation](https://medium.com/@kyawsawhtoon/a-guide-to-knn-imputation-95e2dc496e).  This means that they are \"ready to go\" for machine learning applications (which typically require finite and non-missing values in all predictors)."
   ]
  },
  {
   "cell_type": "code",
   "execution_count": 48,
   "metadata": {},
   "outputs": [],
   "source": [
    "morgan_sim = pyrfume.load_data('morgan/features_sim.csv')"
   ]
  },
  {
   "cell_type": "code",
   "execution_count": 96,
   "metadata": {},
   "outputs": [],
   "source": [
    "mordred = pyrfume.load_data('mordred/features.csv')"
   ]
  },
  {
   "cell_type": "markdown",
   "metadata": {},
   "source": [
    "These files are quite large (thousands of molecules (rows) by thousands of features (columns)) and may take a minute to load.  Directly querying the pyrfume database, rather than loading the entire files, would be faster and is documented separately."
   ]
  },
  {
   "cell_type": "code",
   "execution_count": 52,
   "metadata": {},
   "outputs": [],
   "source": [
    "morgan_sim_ = morgan_sim.loc[cids]\n",
    "mordred_ = mordred.loc[cids]"
   ]
  },
  {
   "cell_type": "markdown",
   "metadata": {},
   "source": [
    "Because every stored value in Pyrfume is indexed by CID, we can access the molecules we care about (that we want to get features for) using CIDs as keys.  We can then join them to produce one final set of features for machine learning applications."
   ]
  },
  {
   "cell_type": "code",
   "execution_count": 53,
   "metadata": {},
   "outputs": [
    {
     "data": {
      "text/html": [
       "<div>\n",
       "<style scoped>\n",
       "    .dataframe tbody tr th:only-of-type {\n",
       "        vertical-align: middle;\n",
       "    }\n",
       "\n",
       "    .dataframe tbody tr th {\n",
       "        vertical-align: top;\n",
       "    }\n",
       "\n",
       "    .dataframe thead th {\n",
       "        text-align: right;\n",
       "    }\n",
       "</style>\n",
       "<table border=\"1\" class=\"dataframe\">\n",
       "  <thead>\n",
       "    <tr style=\"text-align: right;\">\n",
       "      <th></th>\n",
       "      <th>ABC</th>\n",
       "      <th>ABCGG</th>\n",
       "      <th>nAcid</th>\n",
       "      <th>nBase</th>\n",
       "      <th>SpAbs_A</th>\n",
       "      <th>SpMax_A</th>\n",
       "      <th>SpDiam_A</th>\n",
       "      <th>SpAD_A</th>\n",
       "      <th>SpMAD_A</th>\n",
       "      <th>LogEE_A</th>\n",
       "      <th>...</th>\n",
       "      <th>CC(=O)O.C1=CC=C2C(=C1)C(=CC3=C2N=C4C=CC(=N)C=C4O3)N</th>\n",
       "      <th>CCC(C)N1CCC2(CC1)NC3=C4C5=C(C(=NC(=O)/C(=C/C=C/[C@@H]([C@@H]([C@H]([C@H]([C@H]([C@@H]([C@@H]([C@H](/C=C/O[C@@]6(C(=O)C4=C(O6)C(=C5O)C)C)OC)C)OC(=O)C)C)O)C)O)C)/C)C3=N2)O</th>\n",
       "      <th>C[C@H]1/C=C/C=C(\\C(=O)NC2=C(C(=C3C(=C2O)C(=C(C4=C3C(=O)[C@](O4)(O/C=C/[C@@H]([C@H]([C@H]([C@@H]([C@@H]([C@@H]([C@H]1O)C)O)C)OC(=O)C)C)OC)C)C)O)O)/C=N\\N5CCN(CC5)C)/C</th>\n",
       "      <th>C[C@H]1/C=C/C=C(\\C(=O)NC2=C(C(=C3C(=C2O)C(=C(C4=C3C(=O)[C@](O4)(O/C=C/[C@@H]([C@H]([C@H]([C@@H]([C@@H]([C@@H]([C@H]1O)C)O)C)OC(=O)C)C)OC)C)C)O)O)/C=N\\N5CCN(CC5)C6CCCC6)/C</th>\n",
       "      <th>COC1=CC(=CC(=C1O)OC)/C=N\\N=C/C2=CC(=C(C(=C2)OC)O)OC</th>\n",
       "      <th>C[N+]1=CC=CC=C1/C=N\\O.[Cl-]</th>\n",
       "      <th>COC(=O)N/N=C\\C1=[N+](C2=CC=CC=C2[N+](=C1)[O-])[O-]</th>\n",
       "      <th>C1=CC(=C(C(=C1)Cl)CC(=O)NC(=N)N)Cl.Cl</th>\n",
       "      <th>C1(=C(N=C(C(=N1)Cl)N)N)C(=O)NC(=N)N.O.O.Cl</th>\n",
       "      <th>CCCCCCCOC1=C(C=C(C=C1)CC=C)OC</th>\n",
       "    </tr>\n",
       "    <tr>\n",
       "      <th>CID</th>\n",
       "      <th></th>\n",
       "      <th></th>\n",
       "      <th></th>\n",
       "      <th></th>\n",
       "      <th></th>\n",
       "      <th></th>\n",
       "      <th></th>\n",
       "      <th></th>\n",
       "      <th></th>\n",
       "      <th></th>\n",
       "      <th></th>\n",
       "      <th></th>\n",
       "      <th></th>\n",
       "      <th></th>\n",
       "      <th></th>\n",
       "      <th></th>\n",
       "      <th></th>\n",
       "      <th></th>\n",
       "      <th></th>\n",
       "      <th></th>\n",
       "      <th></th>\n",
       "    </tr>\n",
       "  </thead>\n",
       "  <tbody>\n",
       "    <tr>\n",
       "      <th>440917</th>\n",
       "      <td>7.358797</td>\n",
       "      <td>6.909742</td>\n",
       "      <td>0.0</td>\n",
       "      <td>0.0</td>\n",
       "      <td>11.936238</td>\n",
       "      <td>2.236068</td>\n",
       "      <td>4.472136</td>\n",
       "      <td>11.936238</td>\n",
       "      <td>1.193624</td>\n",
       "      <td>3.197236</td>\n",
       "      <td>...</td>\n",
       "      <td>0.139303</td>\n",
       "      <td>0.174089</td>\n",
       "      <td>0.185263</td>\n",
       "      <td>0.178218</td>\n",
       "      <td>0.257261</td>\n",
       "      <td>0.266667</td>\n",
       "      <td>0.218579</td>\n",
       "      <td>0.222222</td>\n",
       "      <td>0.160000</td>\n",
       "      <td>0.289593</td>\n",
       "    </tr>\n",
       "    <tr>\n",
       "      <th>7410</th>\n",
       "      <td>6.542301</td>\n",
       "      <td>6.236096</td>\n",
       "      <td>0.0</td>\n",
       "      <td>0.0</td>\n",
       "      <td>11.189957</td>\n",
       "      <td>2.193993</td>\n",
       "      <td>4.387987</td>\n",
       "      <td>11.189957</td>\n",
       "      <td>1.243329</td>\n",
       "      <td>3.089765</td>\n",
       "      <td>...</td>\n",
       "      <td>0.288889</td>\n",
       "      <td>0.114165</td>\n",
       "      <td>0.123348</td>\n",
       "      <td>0.115702</td>\n",
       "      <td>0.254545</td>\n",
       "      <td>0.456140</td>\n",
       "      <td>0.395062</td>\n",
       "      <td>0.409091</td>\n",
       "      <td>0.232558</td>\n",
       "      <td>0.250000</td>\n",
       "    </tr>\n",
       "    <tr>\n",
       "      <th>16724</th>\n",
       "      <td>8.134854</td>\n",
       "      <td>7.731889</td>\n",
       "      <td>0.0</td>\n",
       "      <td>0.0</td>\n",
       "      <td>13.152542</td>\n",
       "      <td>2.292456</td>\n",
       "      <td>4.584911</td>\n",
       "      <td>13.152542</td>\n",
       "      <td>1.195686</td>\n",
       "      <td>3.294652</td>\n",
       "      <td>...</td>\n",
       "      <td>0.150754</td>\n",
       "      <td>0.174797</td>\n",
       "      <td>0.190275</td>\n",
       "      <td>0.178926</td>\n",
       "      <td>0.251046</td>\n",
       "      <td>0.285714</td>\n",
       "      <td>0.243094</td>\n",
       "      <td>0.251656</td>\n",
       "      <td>0.189189</td>\n",
       "      <td>0.283105</td>\n",
       "    </tr>\n",
       "    <tr>\n",
       "      <th>6184</th>\n",
       "      <td>4.242641</td>\n",
       "      <td>4.530950</td>\n",
       "      <td>0.0</td>\n",
       "      <td>0.0</td>\n",
       "      <td>8.054679</td>\n",
       "      <td>1.847759</td>\n",
       "      <td>3.695518</td>\n",
       "      <td>8.054679</td>\n",
       "      <td>1.150668</td>\n",
       "      <td>2.739193</td>\n",
       "      <td>...</td>\n",
       "      <td>0.124294</td>\n",
       "      <td>0.144681</td>\n",
       "      <td>0.141907</td>\n",
       "      <td>0.133056</td>\n",
       "      <td>0.267281</td>\n",
       "      <td>0.270270</td>\n",
       "      <td>0.226415</td>\n",
       "      <td>0.232558</td>\n",
       "      <td>0.174603</td>\n",
       "      <td>0.385787</td>\n",
       "    </tr>\n",
       "    <tr>\n",
       "      <th>643941</th>\n",
       "      <td>4.242641</td>\n",
       "      <td>4.530950</td>\n",
       "      <td>0.0</td>\n",
       "      <td>0.0</td>\n",
       "      <td>8.054679</td>\n",
       "      <td>1.847759</td>\n",
       "      <td>3.695518</td>\n",
       "      <td>8.054679</td>\n",
       "      <td>1.150668</td>\n",
       "      <td>2.739193</td>\n",
       "      <td>...</td>\n",
       "      <td>0.115607</td>\n",
       "      <td>0.103004</td>\n",
       "      <td>0.111857</td>\n",
       "      <td>0.104822</td>\n",
       "      <td>0.225352</td>\n",
       "      <td>0.280374</td>\n",
       "      <td>0.245161</td>\n",
       "      <td>0.256000</td>\n",
       "      <td>0.196721</td>\n",
       "      <td>0.279793</td>\n",
       "    </tr>\n",
       "  </tbody>\n",
       "</table>\n",
       "<p>5 rows × 11144 columns</p>\n",
       "</div>"
      ],
      "text/plain": [
       "             ABC     ABCGG  nAcid  nBase    SpAbs_A   SpMax_A  SpDiam_A  \\\n",
       "CID                                                                       \n",
       "440917  7.358797  6.909742    0.0    0.0  11.936238  2.236068  4.472136   \n",
       "7410    6.542301  6.236096    0.0    0.0  11.189957  2.193993  4.387987   \n",
       "16724   8.134854  7.731889    0.0    0.0  13.152542  2.292456  4.584911   \n",
       "6184    4.242641  4.530950    0.0    0.0   8.054679  1.847759  3.695518   \n",
       "643941  4.242641  4.530950    0.0    0.0   8.054679  1.847759  3.695518   \n",
       "\n",
       "           SpAD_A   SpMAD_A   LogEE_A  ...  \\\n",
       "CID                                    ...   \n",
       "440917  11.936238  1.193624  3.197236  ...   \n",
       "7410    11.189957  1.243329  3.089765  ...   \n",
       "16724   13.152542  1.195686  3.294652  ...   \n",
       "6184     8.054679  1.150668  2.739193  ...   \n",
       "643941   8.054679  1.150668  2.739193  ...   \n",
       "\n",
       "        CC(=O)O.C1=CC=C2C(=C1)C(=CC3=C2N=C4C=CC(=N)C=C4O3)N  \\\n",
       "CID                                                           \n",
       "440917                                           0.139303     \n",
       "7410                                             0.288889     \n",
       "16724                                            0.150754     \n",
       "6184                                             0.124294     \n",
       "643941                                           0.115607     \n",
       "\n",
       "        CCC(C)N1CCC2(CC1)NC3=C4C5=C(C(=NC(=O)/C(=C/C=C/[C@@H]([C@@H]([C@H]([C@H]([C@H]([C@@H]([C@@H]([C@H](/C=C/O[C@@]6(C(=O)C4=C(O6)C(=C5O)C)C)OC)C)OC(=O)C)C)O)C)O)C)/C)C3=N2)O  \\\n",
       "CID                                                                                                                                                                                 \n",
       "440917                                           0.174089                                                                                                                           \n",
       "7410                                             0.114165                                                                                                                           \n",
       "16724                                            0.174797                                                                                                                           \n",
       "6184                                             0.144681                                                                                                                           \n",
       "643941                                           0.103004                                                                                                                           \n",
       "\n",
       "        C[C@H]1/C=C/C=C(\\C(=O)NC2=C(C(=C3C(=C2O)C(=C(C4=C3C(=O)[C@](O4)(O/C=C/[C@@H]([C@H]([C@H]([C@@H]([C@@H]([C@@H]([C@H]1O)C)O)C)OC(=O)C)C)OC)C)C)O)O)/C=N\\N5CCN(CC5)C)/C  \\\n",
       "CID                                                                                                                                                                            \n",
       "440917                                           0.185263                                                                                                                      \n",
       "7410                                             0.123348                                                                                                                      \n",
       "16724                                            0.190275                                                                                                                      \n",
       "6184                                             0.141907                                                                                                                      \n",
       "643941                                           0.111857                                                                                                                      \n",
       "\n",
       "        C[C@H]1/C=C/C=C(\\C(=O)NC2=C(C(=C3C(=C2O)C(=C(C4=C3C(=O)[C@](O4)(O/C=C/[C@@H]([C@H]([C@H]([C@@H]([C@@H]([C@@H]([C@H]1O)C)O)C)OC(=O)C)C)OC)C)C)O)O)/C=N\\N5CCN(CC5)C6CCCC6)/C  \\\n",
       "CID                                                                                                                                                                                  \n",
       "440917                                           0.178218                                                                                                                            \n",
       "7410                                             0.115702                                                                                                                            \n",
       "16724                                            0.178926                                                                                                                            \n",
       "6184                                             0.133056                                                                                                                            \n",
       "643941                                           0.104822                                                                                                                            \n",
       "\n",
       "        COC1=CC(=CC(=C1O)OC)/C=N\\N=C/C2=CC(=C(C(=C2)OC)O)OC  \\\n",
       "CID                                                           \n",
       "440917                                           0.257261     \n",
       "7410                                             0.254545     \n",
       "16724                                            0.251046     \n",
       "6184                                             0.267281     \n",
       "643941                                           0.225352     \n",
       "\n",
       "        C[N+]1=CC=CC=C1/C=N\\O.[Cl-]  \\\n",
       "CID                                   \n",
       "440917                     0.266667   \n",
       "7410                       0.456140   \n",
       "16724                      0.285714   \n",
       "6184                       0.270270   \n",
       "643941                     0.280374   \n",
       "\n",
       "        COC(=O)N/N=C\\C1=[N+](C2=CC=CC=C2[N+](=C1)[O-])[O-]  \\\n",
       "CID                                                          \n",
       "440917                                           0.218579    \n",
       "7410                                             0.395062    \n",
       "16724                                            0.243094    \n",
       "6184                                             0.226415    \n",
       "643941                                           0.245161    \n",
       "\n",
       "        C1=CC(=C(C(=C1)Cl)CC(=O)NC(=N)N)Cl.Cl  \\\n",
       "CID                                             \n",
       "440917                               0.222222   \n",
       "7410                                 0.409091   \n",
       "16724                                0.251656   \n",
       "6184                                 0.232558   \n",
       "643941                               0.256000   \n",
       "\n",
       "        C1(=C(N=C(C(=N1)Cl)N)N)C(=O)NC(=N)N.O.O.Cl  \\\n",
       "CID                                                  \n",
       "440917                                    0.160000   \n",
       "7410                                      0.232558   \n",
       "16724                                     0.189189   \n",
       "6184                                      0.174603   \n",
       "643941                                    0.196721   \n",
       "\n",
       "        CCCCCCCOC1=C(C=C(C=C1)CC=C)OC  \n",
       "CID                                    \n",
       "440917                       0.289593  \n",
       "7410                         0.250000  \n",
       "16724                        0.283105  \n",
       "6184                         0.385787  \n",
       "643941                       0.279793  \n",
       "\n",
       "[5 rows x 11144 columns]"
      ]
     },
     "execution_count": 53,
     "metadata": {},
     "output_type": "execute_result"
    }
   ],
   "source": [
    "features = mordred_.join(morgan_sim_)\n",
    "features"
   ]
  },
  {
   "cell_type": "markdown",
   "metadata": {},
   "source": [
    "We now have one giant dataframe with all 10000+ features (all physicochemical features for Mordred and all Morgan fingerprint similarity features), indexed by CID.  You are now ready for prediction on targets (receptor activation, glomerular imaging data, PCx firing rates, human perception, animal behavior, etc.) using your favoriate ML framework (scikit-learn, pytorch, etc.)\n",
    "\n",
    "*Pyrfume* also supports some additional featurizations (e.g. [NSPDK](https://dtai.cs.kuleuven.be/drupal/software/nspdk)) and is working on supporting more (e.g. from [Graph Convolution Networks](https://arxiv.org/abs/1910.10685) or [Auto-Encoders](https://www.biorxiv.org/content/10.1101/464735v1))."
   ]
  },
  {
   "cell_type": "markdown",
   "metadata": {},
   "source": [
    "## Part 3: Visualization"
   ]
  },
  {
   "cell_type": "markdown",
   "metadata": {},
   "source": [
    "Now that our molecules have standard representations (from Part 1), we can easily visualize them:"
   ]
  },
  {
   "cell_type": "code",
   "execution_count": 85,
   "metadata": {},
   "outputs": [
    {
     "data": {
      "image/png": "[encoded data removed]",
      "text/plain": [
       "<Figure size 1080x1080 with 5 Axes>"
      ]
     },
     "metadata": {
      "needs_background": "light"
     },
     "output_type": "display_data"
    }
   ],
   "source": [
    "from pyrfume.odorants import display_molecules\n",
    "display_molecules(molecules)"
   ]
  },
  {
   "cell_type": "markdown",
   "metadata": {},
   "source": [
    "Or we can ask where they live in low-dimensional spaces built from features, compared with other odorous molecules."
   ]
  },
  {
   "cell_type": "code",
   "execution_count": 130,
   "metadata": {},
   "outputs": [
    {
     "data": {
      "image/png": "[encoded data removed]",
      "text/plain": [
       "<Figure size 432x432 with 1 Axes>"
      ]
     },
     "metadata": {},
     "output_type": "display_data"
    }
   ],
   "source": [
    "from pyrfume.odorants import embed_molecules\n",
    "acetophenone = molecules.loc[[7410]]\n",
    "embed_molecules(acetophenone)"
   ]
  },
  {
   "cell_type": "markdown",
   "metadata": {},
   "source": [
    "The above shows thousands of molecules from the Pyrfume database (black) and acetophenone in red, using a 2-dimensional [UMAP embedding](https://umap-learn.readthedocs.io/en/latest/) built from those thousands of molecules."
   ]
  },
  {
   "cell_type": "markdown",
   "metadata": {},
   "source": [
    "## Part 4: Working with the Pyrfume datasets"
   ]
  },
  {
   "cell_type": "markdown",
   "metadata": {},
   "source": [
    "Whether you want to build predictive models or simply organize data, it is essential to begin integrating across datasets and wherever possible bringing the largest datasets to bear on the problem.  Most breakthroughs [don't come from new algorithms but from new, large datasets](https://academic.oup.com/chemse/article/doi/10.1093/chemse/bjab020/6226923?login=true)."
   ]
  },
  {
   "cell_type": "code",
   "execution_count": 59,
   "metadata": {},
   "outputs": [
    {
     "data": {
      "text/html": [
       "<div>\n",
       "<style scoped>\n",
       "    .dataframe tbody tr th:only-of-type {\n",
       "        vertical-align: middle;\n",
       "    }\n",
       "\n",
       "    .dataframe tbody tr th {\n",
       "        vertical-align: top;\n",
       "    }\n",
       "\n",
       "    .dataframe thead th {\n",
       "        text-align: right;\n",
       "    }\n",
       "</style>\n",
       "<table border=\"1\" class=\"dataframe\">\n",
       "  <thead>\n",
       "    <tr style=\"text-align: right;\">\n",
       "      <th></th>\n",
       "      <th>MolecularWeight</th>\n",
       "      <th>IsomericSMILES</th>\n",
       "      <th>IUPACName</th>\n",
       "      <th>name</th>\n",
       "      <th>Odorant name</th>\n",
       "      <th>C.A.S.</th>\n",
       "      <th>% odorant</th>\n",
       "      <th>Solvent</th>\n",
       "    </tr>\n",
       "    <tr>\n",
       "      <th>CID</th>\n",
       "      <th></th>\n",
       "      <th></th>\n",
       "      <th></th>\n",
       "      <th></th>\n",
       "      <th></th>\n",
       "      <th></th>\n",
       "      <th></th>\n",
       "      <th></th>\n",
       "    </tr>\n",
       "  </thead>\n",
       "  <tbody>\n",
       "    <tr>\n",
       "      <th>176</th>\n",
       "      <td>60.05</td>\n",
       "      <td>CC(=O)O</td>\n",
       "      <td>acetic acid</td>\n",
       "      <td>acetic acid</td>\n",
       "      <td>acetic acid</td>\n",
       "      <td>64-19-7</td>\n",
       "      <td>10.00</td>\n",
       "      <td>mineral oil</td>\n",
       "    </tr>\n",
       "    <tr>\n",
       "      <th>177</th>\n",
       "      <td>44.05</td>\n",
       "      <td>CC=O</td>\n",
       "      <td>acetaldehyde</td>\n",
       "      <td>acetaldehyde</td>\n",
       "      <td>acetaldehyde</td>\n",
       "      <td>75-07-0</td>\n",
       "      <td>5.00</td>\n",
       "      <td>water</td>\n",
       "    </tr>\n",
       "    <tr>\n",
       "      <th>179</th>\n",
       "      <td>88.11</td>\n",
       "      <td>CC(C(=O)C)O</td>\n",
       "      <td>3-hydroxybutan-2-one</td>\n",
       "      <td>acetoin</td>\n",
       "      <td>acetoin</td>\n",
       "      <td>513-86-0</td>\n",
       "      <td>0.10</td>\n",
       "      <td>1,2-propanediol</td>\n",
       "    </tr>\n",
       "    <tr>\n",
       "      <th>180</th>\n",
       "      <td>58.08</td>\n",
       "      <td>CC(=O)C</td>\n",
       "      <td>propan-2-one</td>\n",
       "      <td>acetone</td>\n",
       "      <td>propan-2-one</td>\n",
       "      <td>67-64-1</td>\n",
       "      <td>25.00</td>\n",
       "      <td>water</td>\n",
       "    </tr>\n",
       "    <tr>\n",
       "      <th>240</th>\n",
       "      <td>106.12</td>\n",
       "      <td>C1=CC=C(C=C1)C=O</td>\n",
       "      <td>benzaldehyde</td>\n",
       "      <td>benzaldehyde</td>\n",
       "      <td>benzaldehyde</td>\n",
       "      <td>100-52-7</td>\n",
       "      <td>0.25</td>\n",
       "      <td>mineral oil</td>\n",
       "    </tr>\n",
       "  </tbody>\n",
       "</table>\n",
       "</div>"
      ],
      "text/plain": [
       "     MolecularWeight    IsomericSMILES             IUPACName          name  \\\n",
       "CID                                                                          \n",
       "176            60.05           CC(=O)O           acetic acid   acetic acid   \n",
       "177            44.05              CC=O          acetaldehyde  acetaldehyde   \n",
       "179            88.11       CC(C(=O)C)O  3-hydroxybutan-2-one       acetoin   \n",
       "180            58.08           CC(=O)C          propan-2-one       acetone   \n",
       "240           106.12  C1=CC=C(C=C1)C=O          benzaldehyde  benzaldehyde   \n",
       "\n",
       "     Odorant name    C.A.S.  % odorant          Solvent  \n",
       "CID                                                      \n",
       "176   acetic acid   64-19-7      10.00      mineral oil  \n",
       "177  acetaldehyde   75-07-0       5.00            water  \n",
       "179       acetoin  513-86-0       0.10  1,2-propanediol  \n",
       "180  propan-2-one   67-64-1      25.00            water  \n",
       "240  benzaldehyde  100-52-7       0.25      mineral oil  "
      ]
     },
     "execution_count": 59,
     "metadata": {},
     "output_type": "execute_result"
    }
   ],
   "source": [
    "bushdid_molecules = pyrfume.load_data('bushdid_2014/molecules.csv')\n",
    "bushdid_molecules.head()"
   ]
  },
  {
   "cell_type": "markdown",
   "metadata": {},
   "source": [
    "The above shows the first 5 molecules (all 128 are in the full dataframe) from [Bushdid et al, 2014](https://science.sciencemag.org/content/343/6177/1370.long) which looked at the perceptual discriminability of random mixtures in humans.  The first thing to note is that the index and the first 5 columns are structured identically to what we generated in Part 1 from our own data.  ALL *pyrfume* datasets have this structure, whether there were obtained from supplemental figures and tables, excel files or pdfs, industrial databases, books, or papyrus scrolls.  Additional columns (such as the final 4 shown above) may also be present, on case-by-case basis, depending on what the authors chose to include in their source materials.\n",
    "\n",
    "What else has the `Pyrfume` project extracted from this data source?"
   ]
  },
  {
   "cell_type": "code",
   "execution_count": 60,
   "metadata": {},
   "outputs": [
    {
     "name": "stdout",
     "output_type": "stream",
     "text": [
      "{'behavior': {'csv': 'Triangle test results'},\n",
      " 'main': {'ipynb': 'Processing workflow'},\n",
      " 'mixtures': {'csv': 'Mixtures used'},\n",
      " 'molecules': {'csv': 'Molecules used'}}\n"
     ]
    }
   ],
   "source": [
    "pyrfume.show_files('bushdid_2014')"
   ]
  },
  {
   "cell_type": "markdown",
   "metadata": {},
   "source": [
    "The above shows a manifest of files available.  Curated file names are simple and memorable (typically, \"molecules\", \"behavior\", \"imaging\", etc.) which means you will often not even need to examine the manifest before retrieving the files you care about.  Importantly, every data archive contains at least one notebook ([`main.ipynb`](https://github.com/pyrfume/pyrfume-data/blob/master/bushdid_2014/main.ipynb)) which provides the full processing workflow going from the raw data provided in the original data source to the cleaned, standardized, organized and mutually compatible datasets provided by *Pyrfume*."
   ]
  },
  {
   "cell_type": "code",
   "execution_count": 64,
   "metadata": {},
   "outputs": [],
   "source": [
    "bushdid_mixtures = pyrfume.load_data('bushdid_2014/mixtures.csv')\n",
    "bushdid_behavior = pyrfume.load_data('bushdid_2014/behavior.csv')"
   ]
  },
  {
   "cell_type": "markdown",
   "metadata": {},
   "source": [
    "Information about each mixture, including the CID (not provided in the original source data) is given in the mixtures file."
   ]
  },
  {
   "cell_type": "code",
   "execution_count": 65,
   "metadata": {},
   "outputs": [
    {
     "data": {
      "text/html": [
       "<div>\n",
       "<style scoped>\n",
       "    .dataframe tbody tr th:only-of-type {\n",
       "        vertical-align: middle;\n",
       "    }\n",
       "\n",
       "    .dataframe tbody tr th {\n",
       "        vertical-align: top;\n",
       "    }\n",
       "\n",
       "    .dataframe thead th {\n",
       "        text-align: right;\n",
       "    }\n",
       "</style>\n",
       "<table border=\"1\" class=\"dataframe\">\n",
       "  <thead>\n",
       "    <tr style=\"text-align: right;\">\n",
       "      <th></th>\n",
       "      <th>Answer</th>\n",
       "      <th>Components in mixtures</th>\n",
       "      <th>Components that differ</th>\n",
       "      <th>% mixture overlap</th>\n",
       "      <th>Stimulus dilution</th>\n",
       "      <th>Molecule 1</th>\n",
       "      <th>Molecule 2</th>\n",
       "      <th>Molecule 3</th>\n",
       "      <th>Molecule 4</th>\n",
       "      <th>Molecule 5</th>\n",
       "      <th>...</th>\n",
       "      <th>Molecule 21</th>\n",
       "      <th>Molecule 22</th>\n",
       "      <th>Molecule 23</th>\n",
       "      <th>Molecule 24</th>\n",
       "      <th>Molecule 25</th>\n",
       "      <th>Molecule 26</th>\n",
       "      <th>Molecule 27</th>\n",
       "      <th>Molecule 28</th>\n",
       "      <th>Molecule 29</th>\n",
       "      <th>Molecule 30</th>\n",
       "    </tr>\n",
       "    <tr>\n",
       "      <th>Test UID</th>\n",
       "      <th></th>\n",
       "      <th></th>\n",
       "      <th></th>\n",
       "      <th></th>\n",
       "      <th></th>\n",
       "      <th></th>\n",
       "      <th></th>\n",
       "      <th></th>\n",
       "      <th></th>\n",
       "      <th></th>\n",
       "      <th></th>\n",
       "      <th></th>\n",
       "      <th></th>\n",
       "      <th></th>\n",
       "      <th></th>\n",
       "      <th></th>\n",
       "      <th></th>\n",
       "      <th></th>\n",
       "      <th></th>\n",
       "      <th></th>\n",
       "      <th></th>\n",
       "    </tr>\n",
       "  </thead>\n",
       "  <tbody>\n",
       "    <tr>\n",
       "      <th>1</th>\n",
       "      <td>right</td>\n",
       "      <td>30</td>\n",
       "      <td>30</td>\n",
       "      <td>0.0</td>\n",
       "      <td>1.00</td>\n",
       "      <td>12232</td>\n",
       "      <td>7731</td>\n",
       "      <td>7888</td>\n",
       "      <td>7966</td>\n",
       "      <td>7848</td>\n",
       "      <td>...</td>\n",
       "      <td>8103</td>\n",
       "      <td>7344</td>\n",
       "      <td>8051</td>\n",
       "      <td>7921</td>\n",
       "      <td>460</td>\n",
       "      <td>7583</td>\n",
       "      <td>11002</td>\n",
       "      <td>12367</td>\n",
       "      <td>6590</td>\n",
       "      <td>7991</td>\n",
       "    </tr>\n",
       "    <tr>\n",
       "      <th>1</th>\n",
       "      <td>wrong</td>\n",
       "      <td>30</td>\n",
       "      <td>30</td>\n",
       "      <td>0.0</td>\n",
       "      <td>0.25</td>\n",
       "      <td>440917</td>\n",
       "      <td>5281515</td>\n",
       "      <td>8030</td>\n",
       "      <td>3314</td>\n",
       "      <td>31272</td>\n",
       "      <td>...</td>\n",
       "      <td>6561</td>\n",
       "      <td>22386</td>\n",
       "      <td>11509</td>\n",
       "      <td>443162</td>\n",
       "      <td>8797</td>\n",
       "      <td>16666</td>\n",
       "      <td>7749</td>\n",
       "      <td>7793</td>\n",
       "      <td>7799</td>\n",
       "      <td>7762</td>\n",
       "    </tr>\n",
       "    <tr>\n",
       "      <th>1</th>\n",
       "      <td>wrong</td>\n",
       "      <td>30</td>\n",
       "      <td>30</td>\n",
       "      <td>0.0</td>\n",
       "      <td>0.50</td>\n",
       "      <td>440917</td>\n",
       "      <td>5281515</td>\n",
       "      <td>8030</td>\n",
       "      <td>3314</td>\n",
       "      <td>31272</td>\n",
       "      <td>...</td>\n",
       "      <td>6561</td>\n",
       "      <td>22386</td>\n",
       "      <td>11509</td>\n",
       "      <td>443162</td>\n",
       "      <td>8797</td>\n",
       "      <td>16666</td>\n",
       "      <td>7749</td>\n",
       "      <td>7793</td>\n",
       "      <td>7799</td>\n",
       "      <td>7762</td>\n",
       "    </tr>\n",
       "    <tr>\n",
       "      <th>2</th>\n",
       "      <td>right</td>\n",
       "      <td>10</td>\n",
       "      <td>4</td>\n",
       "      <td>60.0</td>\n",
       "      <td>0.50</td>\n",
       "      <td>3314</td>\n",
       "      <td>62433</td>\n",
       "      <td>5281515</td>\n",
       "      <td>7749</td>\n",
       "      <td>6561</td>\n",
       "      <td>...</td>\n",
       "      <td>0</td>\n",
       "      <td>0</td>\n",
       "      <td>0</td>\n",
       "      <td>0</td>\n",
       "      <td>0</td>\n",
       "      <td>0</td>\n",
       "      <td>0</td>\n",
       "      <td>0</td>\n",
       "      <td>0</td>\n",
       "      <td>0</td>\n",
       "    </tr>\n",
       "    <tr>\n",
       "      <th>2</th>\n",
       "      <td>wrong</td>\n",
       "      <td>10</td>\n",
       "      <td>4</td>\n",
       "      <td>60.0</td>\n",
       "      <td>0.25</td>\n",
       "      <td>3314</td>\n",
       "      <td>62433</td>\n",
       "      <td>5281515</td>\n",
       "      <td>7749</td>\n",
       "      <td>6561</td>\n",
       "      <td>...</td>\n",
       "      <td>0</td>\n",
       "      <td>0</td>\n",
       "      <td>0</td>\n",
       "      <td>0</td>\n",
       "      <td>0</td>\n",
       "      <td>0</td>\n",
       "      <td>0</td>\n",
       "      <td>0</td>\n",
       "      <td>0</td>\n",
       "      <td>0</td>\n",
       "    </tr>\n",
       "  </tbody>\n",
       "</table>\n",
       "<p>5 rows × 35 columns</p>\n",
       "</div>"
      ],
      "text/plain": [
       "         Answer  Components in mixtures  Components that differ  \\\n",
       "Test UID                                                          \n",
       "1         right                      30                      30   \n",
       "1         wrong                      30                      30   \n",
       "1         wrong                      30                      30   \n",
       "2         right                      10                       4   \n",
       "2         wrong                      10                       4   \n",
       "\n",
       "          % mixture overlap  Stimulus dilution  Molecule 1  Molecule 2  \\\n",
       "Test UID                                                                 \n",
       "1                       0.0               1.00       12232        7731   \n",
       "1                       0.0               0.25      440917     5281515   \n",
       "1                       0.0               0.50      440917     5281515   \n",
       "2                      60.0               0.50        3314       62433   \n",
       "2                      60.0               0.25        3314       62433   \n",
       "\n",
       "          Molecule 3  Molecule 4  Molecule 5  ...  Molecule 21  Molecule 22  \\\n",
       "Test UID                                      ...                             \n",
       "1               7888        7966        7848  ...         8103         7344   \n",
       "1               8030        3314       31272  ...         6561        22386   \n",
       "1               8030        3314       31272  ...         6561        22386   \n",
       "2            5281515        7749        6561  ...            0            0   \n",
       "2            5281515        7749        6561  ...            0            0   \n",
       "\n",
       "          Molecule 23  Molecule 24  Molecule 25  Molecule 26  Molecule 27  \\\n",
       "Test UID                                                                    \n",
       "1                8051         7921          460         7583        11002   \n",
       "1               11509       443162         8797        16666         7749   \n",
       "1               11509       443162         8797        16666         7749   \n",
       "2                   0            0            0            0            0   \n",
       "2                   0            0            0            0            0   \n",
       "\n",
       "          Molecule 28  Molecule 29  Molecule 30  \n",
       "Test UID                                         \n",
       "1               12367         6590         7991  \n",
       "1                7793         7799         7762  \n",
       "1                7793         7799         7762  \n",
       "2                   0            0            0  \n",
       "2                   0            0            0  \n",
       "\n",
       "[5 rows x 35 columns]"
      ]
     },
     "execution_count": 65,
     "metadata": {},
     "output_type": "execute_result"
    }
   ],
   "source": [
    "bushdid_mixtures.head()"
   ]
  },
  {
   "cell_type": "markdown",
   "metadata": {},
   "source": [
    "Finally, the human behavioral results for each mixture are provided in the behavior file.  How one chooses to join these tables to produce prediction target or otherwise explore the data is up to individual taste, but with standards in place it is much less work than it would have been with the source data alone!"
   ]
  },
  {
   "cell_type": "code",
   "execution_count": 66,
   "metadata": {},
   "outputs": [
    {
     "data": {
      "text/html": [
       "<div>\n",
       "<style scoped>\n",
       "    .dataframe tbody tr th:only-of-type {\n",
       "        vertical-align: middle;\n",
       "    }\n",
       "\n",
       "    .dataframe tbody tr th {\n",
       "        vertical-align: top;\n",
       "    }\n",
       "\n",
       "    .dataframe thead th {\n",
       "        text-align: right;\n",
       "    }\n",
       "</style>\n",
       "<table border=\"1\" class=\"dataframe\">\n",
       "  <thead>\n",
       "    <tr style=\"text-align: right;\">\n",
       "      <th></th>\n",
       "      <th>Subject</th>\n",
       "      <th>Correct</th>\n",
       "    </tr>\n",
       "    <tr>\n",
       "      <th>Test UID</th>\n",
       "      <th></th>\n",
       "      <th></th>\n",
       "    </tr>\n",
       "  </thead>\n",
       "  <tbody>\n",
       "    <tr>\n",
       "      <th>1</th>\n",
       "      <td>1</td>\n",
       "      <td>False</td>\n",
       "    </tr>\n",
       "    <tr>\n",
       "      <th>1</th>\n",
       "      <td>2</td>\n",
       "      <td>True</td>\n",
       "    </tr>\n",
       "    <tr>\n",
       "      <th>1</th>\n",
       "      <td>3</td>\n",
       "      <td>False</td>\n",
       "    </tr>\n",
       "    <tr>\n",
       "      <th>1</th>\n",
       "      <td>4</td>\n",
       "      <td>True</td>\n",
       "    </tr>\n",
       "    <tr>\n",
       "      <th>1</th>\n",
       "      <td>5</td>\n",
       "      <td>True</td>\n",
       "    </tr>\n",
       "  </tbody>\n",
       "</table>\n",
       "</div>"
      ],
      "text/plain": [
       "          Subject  Correct\n",
       "Test UID                  \n",
       "1               1    False\n",
       "1               2     True\n",
       "1               3    False\n",
       "1               4     True\n",
       "1               5     True"
      ]
     },
     "execution_count": 66,
     "metadata": {},
     "output_type": "execute_result"
    }
   ],
   "source": [
    "bushdid_behavior.head()"
   ]
  },
  {
   "cell_type": "markdown",
   "metadata": {},
   "source": [
    "Many other datasets are available now, with several dozen additional datasets ready for release in the next 12 months.  Licensing issues stand in the way of some, but the *Pyrfume* maintainers are working this out. "
   ]
  },
  {
   "cell_type": "code",
   "execution_count": 68,
   "metadata": {},
   "outputs": [
    {
     "data": {
      "text/plain": [
       "['abraham_2012',\n",
       " 'bushdid_2014',\n",
       " 'haddad_2008',\n",
       " 'keller_2016',\n",
       " 'manoel_2021',\n",
       " 'ravia_2020',\n",
       " 'snitz_2013',\n",
       " 'wakayama_2019']"
      ]
     },
     "execution_count": 68,
     "metadata": {},
     "output_type": "execute_result"
    }
   ],
   "source": [
    "pyrfume.list_archives()"
   ]
  }
 ],
 "metadata": {
  "kernelspec": {
   "display_name": "Python 3",
   "language": "python",
   "name": "python3"
  },
  "language_info": {
   "codemirror_mode": {
    "name": "ipython",
    "version": 3
   },
   "file_extension": ".py",
   "mimetype": "text/x-python",
   "name": "python",
   "nbconvert_exporter": "python",
   "pygments_lexer": "ipython3",
   "version": "3.9.4"
  }
 },
 "nbformat": 4,
 "nbformat_minor": 4
}
