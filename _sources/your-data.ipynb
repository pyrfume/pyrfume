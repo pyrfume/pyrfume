{
 "cells": [
  {
   "cell_type": "markdown",
   "metadata": {},
   "source": [
    "# Standardizing your own data"
   ]
  },
  {
   "cell_type": "markdown",
   "metadata": {},
   "source": [
    "You may already have your own data, and you would like to link the odorants you've used in one dataset with those from other datasets, or simply be able to do analyses that require your odorants to be well-descibed of featurized."
   ]
  },
  {
   "cell_type": "code",
   "execution_count": null,
   "metadata": {},
   "outputs": [],
   "source": [
    "!pip install -q pyrfume  # Install pyrfume if it is not already installed"
   ]
  },
  {
   "cell_type": "code",
   "execution_count": null,
   "metadata": {},
   "outputs": [],
   "source": [
    "import pandas as pd\n",
    "import pyrfume"
   ]
  },
  {
   "cell_type": "markdown",
   "metadata": {},
   "source": [
    "*Pyrfume* operates under the principle that the proper identifier for a single odorant molecule (e.g. d-Limonene) is the PubChem compound ID ([440917](https://pubchem.ncbi.nlm.nih.gov/compound/440917)), for a single (known) mixture (e.g. light mineral oil) is the PubChem substance ID ([402315722](https://pubchem.ncbi.nlm.nih.gov/substance/402315722)).\n",
    "- A PubChem compound ID uniquely identifiers a molecular structure (unlike a CAS registry number).\n",
    "- A given structure resolves to only one PubChem ID (unlike a SMILES string which depends on implementation).\n",
    "- [PubChem](https://pubchem.ncbi.nlm.nih.gov/) itself is indexed by these IDs and provides a wealth of additional records covering experimental data, computable properties, safety information, and other externally linked data.\n",
    "\n",
    "In order to get access to all of this information, and to link the *same molecule* across datasets, the first step is to obtain PubChem IDs (henceforth, CIDs) for the molecules in question."
   ]
  },
  {
   "cell_type": "code",
   "execution_count": null,
   "metadata": {},
   "outputs": [],
   "source": [
    "names = ['d-limonene', '98-86-2', '(+)-carvone', 'CCCCCC=O', 'GXANMBISFKBPEX-ARJAWSKDSA-N']"
   ]
  },
  {
   "cell_type": "markdown",
   "metadata": {},
   "source": [
    "Above we have 5 different molecules, represented with a mix of names (with different annotations), CAS numbers, SMILES strings, and InChiKeys.  Your data may use one of these formats, or a mix of them, or some other format entirely.  The [PubChem exchange identifier](https://pubchem.ncbi.nlm.nih.gov/idexchange/idexchange.cgi) service can do a good job of converting between (some of) these format, or identifying potential CIDs.  Pyrfume does the extra work of auto-identifying the current identifier, checking for alternative conversions, and providing information about names that did not match or had multiple matches."
   ]
  },
  {
   "cell_type": "code",
   "execution_count": null,
   "metadata": {},
   "outputs": [
    {
     "data": {
      "application/vnd.jupyter.widget-view+json": {
       "model_id": "e5575f4b17e6451eaeedb6ec472aa320",
       "version_major": 2,
       "version_minor": 0
      },
      "text/plain": [
       "  0%|          | 0/5 [00:00<?, ?it/s]"
      ]
     },
     "metadata": {},
     "output_type": "display_data"
    }
   ],
   "source": [
    "from pyrfume import get_cids\n",
    "cids = get_cids(names)"
   ]
  },
  {
   "cell_type": "markdown",
   "metadata": {},
   "source": [
    "The process above can be a little bit slow (resolving only a few identifers per second) because the PubChem database itself is not indexed by most of these (only CIDs and InChiKeys).  Still, it returns a dictionary of unique identifiers (CIDs) for each original identifier:"
   ]
  },
  {
   "cell_type": "code",
   "execution_count": null,
   "metadata": {},
   "outputs": [
    {
     "data": {
      "text/plain": [
       "{'d-limonene': 440917,\n",
       " '98-86-2': 7410,\n",
       " '(+)-carvone': 16724,\n",
       " 'CCCCCC=O': 6184,\n",
       " 'GXANMBISFKBPEX-ARJAWSKDSA-N': 643941}"
      ]
     },
     "execution_count": null,
     "metadata": {},
     "output_type": "execute_result"
    }
   ],
   "source": [
    "cids"
   ]
  },
  {
   "cell_type": "markdown",
   "metadata": {},
   "source": [
    "Which looks a bit nicer as a Pandas series"
   ]
  },
  {
   "cell_type": "code",
   "execution_count": null,
   "metadata": {},
   "outputs": [
    {
     "data": {
      "text/plain": [
       "d-limonene                     440917\n",
       "98-86-2                          7410\n",
       "(+)-carvone                     16724\n",
       "CCCCCC=O                         6184\n",
       "GXANMBISFKBPEX-ARJAWSKDSA-N    643941\n",
       "dtype: int64"
      ]
     },
     "execution_count": null,
     "metadata": {},
     "output_type": "execute_result"
    }
   ],
   "source": [
    "cids = pd.Series(cids)\n",
    "cids"
   ]
  },
  {
   "cell_type": "markdown",
   "metadata": {},
   "source": [
    "Now that you have unique identifiers, you can access a lot more information:"
   ]
  },
  {
   "cell_type": "code",
   "execution_count": null,
   "metadata": {},
   "outputs": [
    {
     "data": {
      "application/vnd.jupyter.widget-view+json": {
       "model_id": "81169c924ed648b3bfbbb07b5a91f0e0",
       "version_major": 2,
       "version_minor": 0
      },
      "text/plain": [
       "  0%|          | 0/1 [00:00<?, ?it/s]"
      ]
     },
     "metadata": {},
     "output_type": "display_data"
    },
    {
     "name": "stdout",
     "output_type": "stream",
     "text": [
      "Retrieving 0 through 4\n"
     ]
    }
   ],
   "source": [
    "from pyrfume import from_cids\n",
    "info = from_cids(cids.values)"
   ]
  },
  {
   "cell_type": "markdown",
   "metadata": {},
   "source": [
    "That part was quite fast and scales very well, because PubChem is indexed by CID.  Pyrfume runs this in batches of 100 CIDs, and each batch takes about 1 second."
   ]
  },
  {
   "cell_type": "code",
   "execution_count": null,
   "metadata": {},
   "outputs": [
    {
     "data": {
      "text/html": [
       "<div>\n",
       "<style scoped>\n",
       "    .dataframe tbody tr th:only-of-type {\n",
       "        vertical-align: middle;\n",
       "    }\n",
       "\n",
       "    .dataframe tbody tr th {\n",
       "        vertical-align: top;\n",
       "    }\n",
       "\n",
       "    .dataframe thead th {\n",
       "        text-align: right;\n",
       "    }\n",
       "</style>\n",
       "<table border=\"1\" class=\"dataframe\">\n",
       "  <thead>\n",
       "    <tr style=\"text-align: right;\">\n",
       "      <th></th>\n",
       "      <th>MolecularWeight</th>\n",
       "      <th>IsomericSMILES</th>\n",
       "      <th>IUPACName</th>\n",
       "      <th>name</th>\n",
       "    </tr>\n",
       "    <tr>\n",
       "      <th>CID</th>\n",
       "      <th></th>\n",
       "      <th></th>\n",
       "      <th></th>\n",
       "      <th></th>\n",
       "    </tr>\n",
       "  </thead>\n",
       "  <tbody>\n",
       "    <tr>\n",
       "      <th>440917</th>\n",
       "      <td>136.23</td>\n",
       "      <td>CC1=CC[C@@H](CC1)C(=C)C</td>\n",
       "      <td>(4R)-1-methyl-4-prop-1-en-2-ylcyclohexene</td>\n",
       "      <td>d-limonene</td>\n",
       "    </tr>\n",
       "    <tr>\n",
       "      <th>7410</th>\n",
       "      <td>120.15</td>\n",
       "      <td>CC(=O)C1=CC=CC=C1</td>\n",
       "      <td>1-phenylethanone</td>\n",
       "      <td>acetophenone</td>\n",
       "    </tr>\n",
       "    <tr>\n",
       "      <th>16724</th>\n",
       "      <td>150.22</td>\n",
       "      <td>CC1=CC[C@@H](CC1=O)C(=C)C</td>\n",
       "      <td>(5S)-2-methyl-5-prop-1-en-2-ylcyclohex-2-en-1-one</td>\n",
       "      <td>d-carvone</td>\n",
       "    </tr>\n",
       "    <tr>\n",
       "      <th>6184</th>\n",
       "      <td>100.16</td>\n",
       "      <td>CCCCCC=O</td>\n",
       "      <td>hexanal</td>\n",
       "      <td>hexanal</td>\n",
       "    </tr>\n",
       "    <tr>\n",
       "      <th>643941</th>\n",
       "      <td>98.14</td>\n",
       "      <td>CC/C=C\\CC=O</td>\n",
       "      <td>(Z)-hex-3-enal</td>\n",
       "      <td>cis-3-hexenal</td>\n",
       "    </tr>\n",
       "  </tbody>\n",
       "</table>\n",
       "</div>"
      ],
      "text/plain": [
       "       MolecularWeight             IsomericSMILES  \\\n",
       "CID                                                 \n",
       "440917          136.23    CC1=CC[C@@H](CC1)C(=C)C   \n",
       "7410            120.15          CC(=O)C1=CC=CC=C1   \n",
       "16724           150.22  CC1=CC[C@@H](CC1=O)C(=C)C   \n",
       "6184            100.16                   CCCCCC=O   \n",
       "643941           98.14                CC/C=C\\CC=O   \n",
       "\n",
       "                                                IUPACName           name  \n",
       "CID                                                                       \n",
       "440917          (4R)-1-methyl-4-prop-1-en-2-ylcyclohexene     d-limonene  \n",
       "7410                                     1-phenylethanone   acetophenone  \n",
       "16724   (5S)-2-methyl-5-prop-1-en-2-ylcyclohex-2-en-1-one      d-carvone  \n",
       "6184                                              hexanal        hexanal  \n",
       "643941                                     (Z)-hex-3-enal  cis-3-hexenal  "
      ]
     },
     "execution_count": null,
     "metadata": {},
     "output_type": "execute_result"
    }
   ],
   "source": [
    "molecules = pd.DataFrame(info).set_index('CID')\n",
    "molecules"
   ]
  },
  {
   "cell_type": "markdown",
   "metadata": {},
   "source": [
    "The above contains the original set of molecules, indexed by CID, but also containing some other useful identifiers that (unlike CAS or InChiKey) actually tell you something about the molecule in question just by looking at them.  The \"IsomericSMILES\" columns is standardized SMILES string computed using the same software (on PubChem) for every molecule.  The \"[IUPACName](https://en.wikipedia.org/wiki/IUPAC_nomenclature_of_organic_chemistry)\" is similarly, a standardized nomenclature for molecle names.  \"name\" is simply the most common name (sometimes a trade name) of the molecule, as you might see it in a publication.  CID, IsomericSMILES, and IUPACName, all uniquely describe the molecule.  If you have multiple datasets from multiple sources, and you want to integrate them together, you can use stock Pandas functions for merging and/or concatenating data. \n",
    "\n",
    "This representation for a set of molecules will recur again and again in Part 4, when looking at external datasets."
   ]
  },
  {
   "cell_type": "markdown",
   "metadata": {},
   "source": [
    "Now that you have the molecules from your data in a standard format, save them to disk for future use:"
   ]
  },
  {
   "cell_type": "code",
   "execution_count": null,
   "metadata": {},
   "outputs": [],
   "source": [
    "pyrfume.save_data(molecules, 'my_data/molecules.csv')"
   ]
  },
  {
   "cell_type": "markdown",
   "metadata": {},
   "source": [
    "You can load them back again with:"
   ]
  },
  {
   "cell_type": "code",
   "execution_count": null,
   "metadata": {},
   "outputs": [],
   "source": [
    "molecules = pyrfume.load_data('my_data/molecules.csv')"
   ]
  },
  {
   "cell_type": "markdown",
   "metadata": {},
   "source": [
    "You can change the location that Pyrfume uses for its (local copy of) the data archives with `pyrfume.set_data_path`."
   ]
  }
 ],
 "metadata": {
  "kernelspec": {
   "display_name": "Python 3",
   "language": "python",
   "name": "python3"
  }
 },
 "nbformat": 4,
 "nbformat_minor": 4
}
