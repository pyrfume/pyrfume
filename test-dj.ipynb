{
 "metadata": {
  "language_info": {
   "codemirror_mode": {
    "name": "ipython",
    "version": 3
   },
   "file_extension": ".py",
   "mimetype": "text/x-python",
   "name": "python",
   "nbconvert_exporter": "python",
   "pygments_lexer": "ipython3",
   "version": "3.8.6-final"
  },
  "orig_nbformat": 2,
  "kernelspec": {
   "name": "python3",
   "display_name": "Python 3"
  }
 },
 "nbformat": 4,
 "nbformat_minor": 2,
 "cells": [
  {
   "cell_type": "code",
   "execution_count": 1,
   "metadata": {},
   "outputs": [
    {
     "output_type": "stream",
     "name": "stdout",
     "text": [
      "DataJoint verified plugin `datajoint_connection_hub` detected.\n"
     ]
    }
   ],
   "source": [
    "import datajoint as dj\n",
    "import pandas as pd\n",
    "import pyrfume\n",
    "from pyrfume import datajoint_tools as djt\n",
    "from pyrfume import init_config, write_config, read_config\n",
    "from pyrfume.dbtables import get_tables, drop_schema, init_schema"
   ]
  },
  {
   "cell_type": "code",
   "execution_count": 2,
   "metadata": {},
   "outputs": [],
   "source": [
    "dj.config['database.host'] = 'hub://djhub.io/iconlab/osmonauts'\n",
    "dj.config['database.user'] = \"your_username\"  # Message Rick Gerkin on Slack to get one\n",
    "dj.config['database.password'] = \"your_password\"  # Ditto, then change it\n",
    "dj.config[\"enable_python_native_blobs\"] = True\n",
    "#dj.config.save_local()"
   ]
  },
  {
   "cell_type": "code",
   "execution_count": 3,
   "metadata": {},
   "outputs": [
    {
     "output_type": "stream",
     "name": "stdout",
     "text": [
      "Connecting zhiwei@djhub-hosting-asu-001.cda95qzjbnvs.us-east-1.rds.amazonaws.com:3306\n"
     ]
    }
   ],
   "source": [
    "init_config(True)\n",
    "write_config(\"DATABASE\", \"schema_name\", \"u_zhiwei_odorants\")\n",
    "init_schema()\n",
    "drop_schema(True)\n",
    "locals().update(get_tables())"
   ]
  },
  {
   "cell_type": "code",
   "execution_count": 4,
   "metadata": {},
   "outputs": [
    {
     "output_type": "stream",
     "name": "stdout",
     "text": [
      "__________________________________________________________\n\n    smiles : varchar(25)\n    ---\n    inchi = NULL : varchar(128)\n    inchikey = \"\" : varchar(256)\n    pubchem_id = NULL : int\n    name = \"\" : varchar(128)\n    iupac = \"\" : varchar(128)\n    \n__________________________________________________________\n\n    name = \"\" : varchar(256)\n    ---\n    \n__________________________________________________________\n\n    -> Vendor \n    catalog = 0 : int\n    ---\n    -> Molecule\n    purity = \"\" : varchar(64)\n    batch = \"\" : varchar(64)\n    \n__________________________________________________________\n\n    -> Product\n    date_delivered : datetime\n    location = \"\" : varchar(64)\n    ---\n    date_opened = NULL : datetime\n    \n__________________________________________________________\n\n    solution_id: int auto_increment\n    ---\n    diution = NULL : int\n    concentration = NULL : float\n    value = NULL : <quantity_adapter>\n    mixing_data = NULL : date\n    \n__________________________________________________________\n\n        -> Solution\n        -> Compound\n        ---\n        \n__________________________________________________________\n\n    name = \"\" : varchar(64)\n    height = 0 : float\n    base_area = \"\" : varchar(64)\n    ---\n    \n__________________________________________________________\n\n    odorant_id: int auto_increment\n    ---\n    -> Vessel\n    date_prepared = NULL : datetime\n    \n__________________________________________________________\n\n        -> Odorant\n        -> Solution\n        ---\n        \n__________________________________________________________\n\n    route_id: int auto_increment\n    ---\n    name = \"\" : varchar(64)\n    \n__________________________________________________________\n\n    stimulus_id: int auto_increment\n    ---\n    -> Route\n    \n__________________________________________________________\n\n        -> Stimulus\n        -> Odorant\n        ---\n        \n__________________________________________________________\n\n    subject_id: int auto_increment\n    ---\n    age : tinyint\n    gender : tinyint\n    detail_info : varchar(512)\n    \n__________________________________________________________\n\n    trial_id: int auto_increment\n    ---\n    -> Stimulus\n    -> Subject\n    time : timestamp\n    \n__________________________________________________________\n\n    site_id: int auto_increment\n    ---\n    name : varchar(64)\n    kind : varchar(16)\n    \n__________________________________________________________\n\n    investigator_id: int auto_increment\n    ---\n    first_name : varchar(64)\n    last_name : varchar(64)\n    -> Site\n    \n__________________________________________________________\n\n    technician_id: int auto_increment\n    ---\n    first_name : varchar(64)\n    last_name : varchar(64)\n    -> Investigator\n    \n__________________________________________________________\n\n    publication_id: int auto_increment\n    ---\n    name : varchar(512)\n    kind : varchar(32)\n    -> Investigator\n    \n__________________________________________________________\n\n    report_id: int auto_increment\n    ---\n    title : varchar(512)\n    year : smallint\n    -> Publication\n    doi : varchar(128)\n    \n    last_name : varchar(64)\n    -> Investigator\n    \n__________________________________________________________\n\n    design_id: int auto_increment\n    ---\n    name : varchar(64)\n    \n__________________________________________________________\n\n    block_id: int auto_increment\n    ---\n    -> Technician\n    -> Design\n    \n__________________________________________________________\n\n        -> Block\n        -> Trial\n        ---\n        \n__________________________________________________________\n\n    experiment_id: int auto_increment\n    ---\n    -> Investigator\n    \n__________________________________________________________\n\n        -> Experiment\n        -> Block\n        ---\n        \n__________________________________________________________\n\n    summary_id: int auto_increment\n    ---\n    -> Publication\n    -> Design\n    \n__________________________________________________________\n\n        -> Summary\n        -> Odorant\n        ---\n        \n__________________________________________________________\n"
     ]
    }
   ],
   "source": [
    "line = \"__________________________________________________________\"\n",
    "print(line)\n",
    "print(Molecule.definition)\n",
    "print(line)\n",
    "print(Vendor.definition)\n",
    "print(line)\n",
    "print(Product.definition)\n",
    "print(line)\n",
    "print(Compound.definition)\n",
    "print(line)\n",
    "print(Solution.definition)\n",
    "print(line)\n",
    "print(Solution.Compounds.definition)\n",
    "print(line)\n",
    "print(Vessel.definition)\n",
    "print(line)\n",
    "print(Odorant.definition)\n",
    "print(line)\n",
    "print(Odorant.Solutions.definition)\n",
    "print(line)\n",
    "print(Route.definition)\n",
    "print(line)\n",
    "print(Stimulus.definition)\n",
    "print(line)\n",
    "print(Stimulus.Odorants.definition)\n",
    "print(line)\n",
    "print(Subject.definition)\n",
    "print(line)\n",
    "print(Trial.definition)\n",
    "print(line)\n",
    "print(Site.definition)\n",
    "print(line)\n",
    "print(Investigator.definition)\n",
    "print(line)\n",
    "print(Technician.definition)\n",
    "print(line)\n",
    "print(Publication.definition)\n",
    "print(line)\n",
    "print(Report.definition)\n",
    "print(line)\n",
    "print(Design.definition)\n",
    "print(line)\n",
    "print(Block.definition)\n",
    "print(line)\n",
    "print(Block.Trials.definition)\n",
    "print(line)\n",
    "print(Experiment.definition)\n",
    "print(line)\n",
    "print(Experiment.Blocks.definition)\n",
    "print(line)\n",
    "print(Summary.definition)\n",
    "print(line)\n",
    "print(Summary.Odorants.definition)\n",
    "print(line)\n"
   ]
  },
  {
   "cell_type": "code",
   "execution_count": 6,
   "metadata": {},
   "outputs": [],
   "source": [
    "Molecule.insert1({\n",
    "    \"smiles\": \"smile 1\",\n",
    "    \"inchi\": \"1S/C2H6O/c1-2-3/h3H,2H2,1H3\",\n",
    "    \"inchikey\": \"LFQSCWFLJHTTHZ-UHFFFAOYSA-N\",\n",
    "    \"pubchem_id\": 702,\n",
    "    \"name\": \"ethanol\",\n",
    "    \"iupac\": \"Ethanol\",\n",
    "})"
   ]
  },
  {
   "cell_type": "code",
   "execution_count": 9,
   "metadata": {},
   "outputs": [
    {
     "output_type": "stream",
     "name": "stdout",
     "text": [
      "__________________________________________________________\n    smiles                        inchi                     inchikey  \\\n0  smile 1  1S/C2H6O/c1-2-3/h3H,2H2,1H3  LFQSCWFLJHTTHZ-UHFFFAOYSA-N   \n\n   pubchem_id     name    iupac  \n0         702  ethanol  Ethanol  \n"
     ]
    }
   ],
   "source": [
    "import pandas as pd\n",
    "mols = pd.DataFrame(Molecule & \"name='ethanol'\")\n",
    "print(line)\n",
    "print(mols)"
   ]
  },
  {
   "cell_type": "code",
   "execution_count": null,
   "metadata": {},
   "outputs": [],
   "source": []
  }
 ]
}